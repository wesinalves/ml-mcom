{
 "cells": [
  {
   "cell_type": "markdown",
   "id": "e4385c8d-59ca-4daf-9651-ec676e99375f",
   "metadata": {},
   "source": [
    "# Regressão linear sobre os dados abertos do programa cidades digitais\n",
    "O programa Cidades Digitais promove a inclusão dos órgãos públicos das Prefeituras Municipais no mundo das TIC, com os objetivos de modernizar a gestão, ampliar o acesso aos serviços públicos e promover o desenvolvimento dos municípios brasileiros por meio da tecnologia"
   ]
  },
  {
   "cell_type": "markdown",
   "id": "28819492-e78f-4f2d-88d4-98aff36504ef",
   "metadata": {},
   "source": [
    "# carregar dados"
   ]
  },
  {
   "cell_type": "code",
   "execution_count": 83,
   "id": "bafbf312-7c91-4504-937f-42c6830582e2",
   "metadata": {},
   "outputs": [],
   "source": [
    "import pandas as pd\n",
    "df = pd.read_csv('dados/dadosabertos_cidadesdigitais_jan.csv', sep=';')"
   ]
  },
  {
   "cell_type": "code",
   "execution_count": 22,
   "id": "9a3e8ce6-cf5a-42a6-808c-27ca99ce02af",
   "metadata": {},
   "outputs": [
    {
     "data": {
      "text/html": [
       "<div>\n",
       "<style scoped>\n",
       "    .dataframe tbody tr th:only-of-type {\n",
       "        vertical-align: middle;\n",
       "    }\n",
       "\n",
       "    .dataframe tbody tr th {\n",
       "        vertical-align: top;\n",
       "    }\n",
       "\n",
       "    .dataframe thead th {\n",
       "        text-align: right;\n",
       "    }\n",
       "</style>\n",
       "<table border=\"1\" class=\"dataframe\">\n",
       "  <thead>\n",
       "    <tr style=\"text-align: right;\">\n",
       "      <th></th>\n",
       "      <th>UF</th>\n",
       "      <th>Cidade</th>\n",
       "      <th>CÓDIGO IBGE</th>\n",
       "      <th>POPULAÇÃO ESTIMADA</th>\n",
       "      <th>Valor Previsto</th>\n",
       "      <th>PEAS</th>\n",
       "      <th>PAG</th>\n",
       "      <th>PAP</th>\n",
       "      <th>PCG</th>\n",
       "      <th>PONTOS ATENDIDOS</th>\n",
       "      <th>...</th>\n",
       "      <th>Unnamed: 991</th>\n",
       "      <th>Unnamed: 992</th>\n",
       "      <th>Unnamed: 993</th>\n",
       "      <th>Unnamed: 994</th>\n",
       "      <th>Unnamed: 995</th>\n",
       "      <th>Unnamed: 996</th>\n",
       "      <th>Unnamed: 997</th>\n",
       "      <th>Unnamed: 998</th>\n",
       "      <th>Unnamed: 999</th>\n",
       "      <th>Unnamed: 1000</th>\n",
       "    </tr>\n",
       "  </thead>\n",
       "  <tbody>\n",
       "    <tr>\n",
       "      <th>0</th>\n",
       "      <td>BA</td>\n",
       "      <td>Abaré</td>\n",
       "      <td>2900207.0</td>\n",
       "      <td>19.939</td>\n",
       "      <td>R$ 490.227,43</td>\n",
       "      <td>1</td>\n",
       "      <td>2</td>\n",
       "      <td>3</td>\n",
       "      <td>17.0</td>\n",
       "      <td>23</td>\n",
       "      <td>...</td>\n",
       "      <td>NaN</td>\n",
       "      <td>NaN</td>\n",
       "      <td>NaN</td>\n",
       "      <td>NaN</td>\n",
       "      <td>NaN</td>\n",
       "      <td>NaN</td>\n",
       "      <td>NaN</td>\n",
       "      <td>NaN</td>\n",
       "      <td>NaN</td>\n",
       "      <td>NaN</td>\n",
       "    </tr>\n",
       "    <tr>\n",
       "      <th>1</th>\n",
       "      <td>ES</td>\n",
       "      <td>Afonso Cláudio</td>\n",
       "      <td>3200102.0</td>\n",
       "      <td>32.407</td>\n",
       "      <td>R$ 780.654,21</td>\n",
       "      <td>1</td>\n",
       "      <td>2</td>\n",
       "      <td>3</td>\n",
       "      <td>21.0</td>\n",
       "      <td>27</td>\n",
       "      <td>...</td>\n",
       "      <td>NaN</td>\n",
       "      <td>NaN</td>\n",
       "      <td>NaN</td>\n",
       "      <td>NaN</td>\n",
       "      <td>NaN</td>\n",
       "      <td>NaN</td>\n",
       "      <td>NaN</td>\n",
       "      <td>NaN</td>\n",
       "      <td>NaN</td>\n",
       "      <td>NaN</td>\n",
       "    </tr>\n",
       "    <tr>\n",
       "      <th>2</th>\n",
       "      <td>BA</td>\n",
       "      <td>Anagé</td>\n",
       "      <td>2901205.0</td>\n",
       "      <td>19.824</td>\n",
       "      <td>R$ 510.328,56</td>\n",
       "      <td>1</td>\n",
       "      <td>2</td>\n",
       "      <td>2</td>\n",
       "      <td>10.0</td>\n",
       "      <td>15</td>\n",
       "      <td>...</td>\n",
       "      <td>NaN</td>\n",
       "      <td>NaN</td>\n",
       "      <td>NaN</td>\n",
       "      <td>NaN</td>\n",
       "      <td>NaN</td>\n",
       "      <td>NaN</td>\n",
       "      <td>NaN</td>\n",
       "      <td>NaN</td>\n",
       "      <td>NaN</td>\n",
       "      <td>NaN</td>\n",
       "    </tr>\n",
       "    <tr>\n",
       "      <th>3</th>\n",
       "      <td>MG</td>\n",
       "      <td>Ataléia</td>\n",
       "      <td>3104700.0</td>\n",
       "      <td>13.897</td>\n",
       "      <td>R$ 677.429,81</td>\n",
       "      <td>1</td>\n",
       "      <td>2</td>\n",
       "      <td>2</td>\n",
       "      <td>15.0</td>\n",
       "      <td>20</td>\n",
       "      <td>...</td>\n",
       "      <td>NaN</td>\n",
       "      <td>NaN</td>\n",
       "      <td>NaN</td>\n",
       "      <td>NaN</td>\n",
       "      <td>NaN</td>\n",
       "      <td>NaN</td>\n",
       "      <td>NaN</td>\n",
       "      <td>NaN</td>\n",
       "      <td>NaN</td>\n",
       "      <td>NaN</td>\n",
       "    </tr>\n",
       "    <tr>\n",
       "      <th>4</th>\n",
       "      <td>BA</td>\n",
       "      <td>Boa Vista do Tupim</td>\n",
       "      <td>2903805.0</td>\n",
       "      <td>19.516</td>\n",
       "      <td>R$ 548.582,05</td>\n",
       "      <td>1</td>\n",
       "      <td>2</td>\n",
       "      <td>2</td>\n",
       "      <td>23.0</td>\n",
       "      <td>28</td>\n",
       "      <td>...</td>\n",
       "      <td>NaN</td>\n",
       "      <td>NaN</td>\n",
       "      <td>NaN</td>\n",
       "      <td>NaN</td>\n",
       "      <td>NaN</td>\n",
       "      <td>NaN</td>\n",
       "      <td>NaN</td>\n",
       "      <td>NaN</td>\n",
       "      <td>NaN</td>\n",
       "      <td>NaN</td>\n",
       "    </tr>\n",
       "  </tbody>\n",
       "</table>\n",
       "<p>5 rows × 1001 columns</p>\n",
       "</div>"
      ],
      "text/plain": [
       "   UF              Cidade  CÓDIGO IBGE POPULAÇÃO ESTIMADA   Valor Previsto  \\\n",
       "0  BA               Abaré    2900207.0             19.939   R$ 490.227,43    \n",
       "1  ES      Afonso Cláudio    3200102.0             32.407   R$ 780.654,21    \n",
       "2  BA               Anagé    2901205.0             19.824   R$ 510.328,56    \n",
       "3  MG             Ataléia    3104700.0             13.897   R$ 677.429,81    \n",
       "4  BA  Boa Vista do Tupim    2903805.0             19.516   R$ 548.582,05    \n",
       "\n",
       "   PEAS  PAG  PAP   PCG  PONTOS ATENDIDOS  ... Unnamed: 991 Unnamed: 992  \\\n",
       "0     1    2    3  17.0                23  ...          NaN          NaN   \n",
       "1     1    2    3  21.0                27  ...          NaN          NaN   \n",
       "2     1    2    2  10.0                15  ...          NaN          NaN   \n",
       "3     1    2    2  15.0                20  ...          NaN          NaN   \n",
       "4     1    2    2  23.0                28  ...          NaN          NaN   \n",
       "\n",
       "   Unnamed: 993  Unnamed: 994  Unnamed: 995  Unnamed: 996  Unnamed: 997  \\\n",
       "0           NaN           NaN           NaN           NaN           NaN   \n",
       "1           NaN           NaN           NaN           NaN           NaN   \n",
       "2           NaN           NaN           NaN           NaN           NaN   \n",
       "3           NaN           NaN           NaN           NaN           NaN   \n",
       "4           NaN           NaN           NaN           NaN           NaN   \n",
       "\n",
       "   Unnamed: 998  Unnamed: 999  Unnamed: 1000  \n",
       "0           NaN           NaN            NaN  \n",
       "1           NaN           NaN            NaN  \n",
       "2           NaN           NaN            NaN  \n",
       "3           NaN           NaN            NaN  \n",
       "4           NaN           NaN            NaN  \n",
       "\n",
       "[5 rows x 1001 columns]"
      ]
     },
     "execution_count": 22,
     "metadata": {},
     "output_type": "execute_result"
    }
   ],
   "source": [
    "df.head()"
   ]
  },
  {
   "cell_type": "code",
   "execution_count": 84,
   "id": "710e528a-4187-4be0-b4ec-7e10ff160288",
   "metadata": {},
   "outputs": [],
   "source": [
    "df = df[['UF','Cidade', 'CÓDIGO IBGE', 'POPULAÇÃO ESTIMADA', 'Valor Previsto', 'PEAS', 'PAG', 'PCG', 'PONTOS ATENDIDOS', 'Status', 'Status Implantação']]"
   ]
  },
  {
   "cell_type": "markdown",
   "id": "f3fffb10-5234-4796-966b-56a30037e820",
   "metadata": {},
   "source": [
    "# análise exploratória dos dados"
   ]
  },
  {
   "cell_type": "code",
   "execution_count": 24,
   "id": "49f2cb65-272a-4cbc-938c-737d7c199856",
   "metadata": {},
   "outputs": [
    {
     "data": {
      "text/plain": [
       "(338, 11)"
      ]
     },
     "execution_count": 24,
     "metadata": {},
     "output_type": "execute_result"
    }
   ],
   "source": [
    "df.shape"
   ]
  },
  {
   "cell_type": "code",
   "execution_count": 25,
   "id": "ed069bd3-318f-466d-bf96-54e7f8e0ec29",
   "metadata": {},
   "outputs": [
    {
     "data": {
      "text/html": [
       "<div>\n",
       "<style scoped>\n",
       "    .dataframe tbody tr th:only-of-type {\n",
       "        vertical-align: middle;\n",
       "    }\n",
       "\n",
       "    .dataframe tbody tr th {\n",
       "        vertical-align: top;\n",
       "    }\n",
       "\n",
       "    .dataframe thead th {\n",
       "        text-align: right;\n",
       "    }\n",
       "</style>\n",
       "<table border=\"1\" class=\"dataframe\">\n",
       "  <thead>\n",
       "    <tr style=\"text-align: right;\">\n",
       "      <th></th>\n",
       "      <th>CÓDIGO IBGE</th>\n",
       "      <th>PEAS</th>\n",
       "      <th>PAG</th>\n",
       "      <th>PCG</th>\n",
       "      <th>PONTOS ATENDIDOS</th>\n",
       "    </tr>\n",
       "  </thead>\n",
       "  <tbody>\n",
       "    <tr>\n",
       "      <th>count</th>\n",
       "      <td>3.340000e+02</td>\n",
       "      <td>338.0</td>\n",
       "      <td>338.000000</td>\n",
       "      <td>283.000000</td>\n",
       "      <td>338.000000</td>\n",
       "    </tr>\n",
       "    <tr>\n",
       "      <th>mean</th>\n",
       "      <td>2.895998e+06</td>\n",
       "      <td>1.0</td>\n",
       "      <td>4.795858</td>\n",
       "      <td>16.816254</td>\n",
       "      <td>22.393491</td>\n",
       "    </tr>\n",
       "    <tr>\n",
       "      <th>std</th>\n",
       "      <td>9.685694e+05</td>\n",
       "      <td>0.0</td>\n",
       "      <td>6.181938</td>\n",
       "      <td>10.361625</td>\n",
       "      <td>9.623886</td>\n",
       "    </tr>\n",
       "    <tr>\n",
       "      <th>min</th>\n",
       "      <td>1.100106e+06</td>\n",
       "      <td>1.0</td>\n",
       "      <td>0.000000</td>\n",
       "      <td>0.000000</td>\n",
       "      <td>5.000000</td>\n",
       "    </tr>\n",
       "    <tr>\n",
       "      <th>25%</th>\n",
       "      <td>2.209124e+06</td>\n",
       "      <td>1.0</td>\n",
       "      <td>2.000000</td>\n",
       "      <td>10.000000</td>\n",
       "      <td>15.000000</td>\n",
       "    </tr>\n",
       "    <tr>\n",
       "      <th>50%</th>\n",
       "      <td>2.902807e+06</td>\n",
       "      <td>1.0</td>\n",
       "      <td>2.000000</td>\n",
       "      <td>15.000000</td>\n",
       "      <td>21.000000</td>\n",
       "    </tr>\n",
       "    <tr>\n",
       "      <th>75%</th>\n",
       "      <td>3.514815e+06</td>\n",
       "      <td>1.0</td>\n",
       "      <td>2.000000</td>\n",
       "      <td>22.000000</td>\n",
       "      <td>27.000000</td>\n",
       "    </tr>\n",
       "    <tr>\n",
       "      <th>max</th>\n",
       "      <td>5.300108e+06</td>\n",
       "      <td>1.0</td>\n",
       "      <td>30.000000</td>\n",
       "      <td>52.000000</td>\n",
       "      <td>58.000000</td>\n",
       "    </tr>\n",
       "  </tbody>\n",
       "</table>\n",
       "</div>"
      ],
      "text/plain": [
       "        CÓDIGO IBGE   PEAS         PAG         PCG  PONTOS ATENDIDOS\n",
       "count  3.340000e+02  338.0  338.000000  283.000000        338.000000\n",
       "mean   2.895998e+06    1.0    4.795858   16.816254         22.393491\n",
       "std    9.685694e+05    0.0    6.181938   10.361625          9.623886\n",
       "min    1.100106e+06    1.0    0.000000    0.000000          5.000000\n",
       "25%    2.209124e+06    1.0    2.000000   10.000000         15.000000\n",
       "50%    2.902807e+06    1.0    2.000000   15.000000         21.000000\n",
       "75%    3.514815e+06    1.0    2.000000   22.000000         27.000000\n",
       "max    5.300108e+06    1.0   30.000000   52.000000         58.000000"
      ]
     },
     "execution_count": 25,
     "metadata": {},
     "output_type": "execute_result"
    }
   ],
   "source": [
    "df.describe()"
   ]
  },
  {
   "cell_type": "code",
   "execution_count": 26,
   "id": "88a75fdc-e462-4907-9fc3-7a9b26f44897",
   "metadata": {},
   "outputs": [
    {
     "name": "stdout",
     "output_type": "stream",
     "text": [
      "<class 'pandas.core.frame.DataFrame'>\n",
      "RangeIndex: 338 entries, 0 to 337\n",
      "Data columns (total 11 columns):\n",
      " #   Column              Non-Null Count  Dtype  \n",
      "---  ------              --------------  -----  \n",
      " 0   UF                  338 non-null    object \n",
      " 1   Cidade              338 non-null    object \n",
      " 2   CÓDIGO IBGE         334 non-null    float64\n",
      " 3   POPULAÇÃO ESTIMADA  334 non-null    object \n",
      " 4   Valor Previsto      338 non-null    object \n",
      " 5   PEAS                338 non-null    int64  \n",
      " 6   PAG                 338 non-null    int64  \n",
      " 7   PCG                 283 non-null    float64\n",
      " 8   PONTOS ATENDIDOS    338 non-null    int64  \n",
      " 9   Status              337 non-null    object \n",
      " 10  Status Implantação  338 non-null    object \n",
      "dtypes: float64(2), int64(3), object(6)\n",
      "memory usage: 29.2+ KB\n"
     ]
    }
   ],
   "source": [
    "df.info()"
   ]
  },
  {
   "cell_type": "code",
   "execution_count": 85,
   "id": "460a2f52-0abd-4b74-bbc4-4d6699d2443c",
   "metadata": {},
   "outputs": [
    {
     "data": {
      "text/plain": [
       "UF                     0\n",
       "Cidade                 0\n",
       "CÓDIGO IBGE            4\n",
       "POPULAÇÃO ESTIMADA     4\n",
       "Valor Previsto         0\n",
       "PEAS                   0\n",
       "PAG                    0\n",
       "PCG                   55\n",
       "PONTOS ATENDIDOS       0\n",
       "Status                 1\n",
       "Status Implantação     0\n",
       "dtype: int64"
      ]
     },
     "execution_count": 85,
     "metadata": {},
     "output_type": "execute_result"
    }
   ],
   "source": [
    "df.isnull().sum()"
   ]
  },
  {
   "cell_type": "markdown",
   "id": "ac28d998-894f-44c9-80c2-6ee2aa839c51",
   "metadata": {},
   "source": [
    "# limpeza dos dados"
   ]
  },
  {
   "cell_type": "code",
   "execution_count": 86,
   "id": "096ee473-723b-43f8-a20e-281e0d9e5a06",
   "metadata": {},
   "outputs": [],
   "source": [
    "# manipulando valores em falta\n",
    "df.dropna(inplace=True)"
   ]
  },
  {
   "cell_type": "code",
   "execution_count": 87,
   "id": "dafb7d02-01c7-45c7-86ff-73386a72bb5c",
   "metadata": {},
   "outputs": [],
   "source": [
    "df['POPULAÇÃO ESTIMADA'] = pd.to_numeric(df['POPULAÇÃO ESTIMADA'], errors='coerce')"
   ]
  },
  {
   "cell_type": "code",
   "execution_count": 93,
   "id": "e8d615c9-9691-4fb7-af32-dd82c59916aa",
   "metadata": {},
   "outputs": [],
   "source": [
    "x = df['Valor Previsto'].replace('[R$. ]', '', regex=True)\n",
    "x = x.replace('[,]', '.', regex=True)\n",
    "df['Valor Previsto'] = pd.to_numeric(x, errors='coerce')\n",
    "#df['Valor Previsto'] = df['Valor Previsto'].apply(lambda x: float(x.replace(\".\",\"\").replace(\",\",\".\")))\n",
    "#df['Valor Previsto']"
   ]
  },
  {
   "cell_type": "code",
   "execution_count": 94,
   "id": "fb63bf47-07bc-40cb-86bb-b1c08434fe92",
   "metadata": {},
   "outputs": [
    {
     "data": {
      "text/plain": [
       "0      490227.43\n",
       "1      780654.21\n",
       "2      510328.56\n",
       "3      677429.81\n",
       "4      548582.05\n",
       "         ...    \n",
       "332    484547.53\n",
       "333    328258.55\n",
       "334    572200.39\n",
       "335    935412.72\n",
       "336    772597.30\n",
       "Name: Valor Previsto, Length: 278, dtype: float64"
      ]
     },
     "execution_count": 94,
     "metadata": {},
     "output_type": "execute_result"
    }
   ],
   "source": [
    "df['Valor Previsto']"
   ]
  },
  {
   "cell_type": "code",
   "execution_count": 95,
   "id": "55090182-0050-4994-addd-07754b526e3b",
   "metadata": {},
   "outputs": [
    {
     "name": "stdout",
     "output_type": "stream",
     "text": [
      "<class 'pandas.core.frame.DataFrame'>\n",
      "Index: 278 entries, 0 to 336\n",
      "Data columns (total 11 columns):\n",
      " #   Column              Non-Null Count  Dtype  \n",
      "---  ------              --------------  -----  \n",
      " 0   UF                  278 non-null    object \n",
      " 1   Cidade              278 non-null    object \n",
      " 2   CÓDIGO IBGE         278 non-null    float64\n",
      " 3   POPULAÇÃO ESTIMADA  278 non-null    float64\n",
      " 4   Valor Previsto      278 non-null    float64\n",
      " 5   PEAS                278 non-null    int64  \n",
      " 6   PAG                 278 non-null    int64  \n",
      " 7   PCG                 278 non-null    float64\n",
      " 8   PONTOS ATENDIDOS    278 non-null    int64  \n",
      " 9   Status              278 non-null    object \n",
      " 10  Status Implantação  278 non-null    object \n",
      "dtypes: float64(4), int64(3), object(4)\n",
      "memory usage: 26.1+ KB\n"
     ]
    }
   ],
   "source": [
    "df.info()"
   ]
  },
  {
   "cell_type": "markdown",
   "id": "577a41c1-041c-4ec5-b4b5-613e9bd55e8e",
   "metadata": {},
   "source": [
    "# preparação dos dados"
   ]
  },
  {
   "cell_type": "code",
   "execution_count": 105,
   "id": "5bf4067c-ec26-47d6-982a-53071d261a7a",
   "metadata": {},
   "outputs": [],
   "source": [
    "import numpy as np\n",
    "X = np.c_[np.ones((278,1)), df['POPULAÇÃO ESTIMADA']]\n",
    "y = df['Valor Previsto']"
   ]
  },
  {
   "cell_type": "code",
   "execution_count": 116,
   "id": "3ca4eec1-270d-42c7-b372-3ff756cfad1d",
   "metadata": {},
   "outputs": [
    {
     "data": {
      "text/plain": [
       "<matplotlib.collections.PathCollection at 0x13e5b3e00>"
      ]
     },
     "execution_count": 116,
     "metadata": {},
     "output_type": "execute_result"
    },
    {
     "data": {
      "image/png": "[encoded data removed]",
      "text/plain": [
       "<Figure size 500x500 with 1 Axes>"
      ]
     },
     "metadata": {},
     "output_type": "display_data"
    }
   ],
   "source": [
    "import matplotlib.pyplot as plt\n",
    "\n",
    "plt.figure(figsize=(5,5))\n",
    "plt.scatter(df['POPULAÇÃO ESTIMADA'], df['Valor Previsto'], color='b', alpha=0.3)"
   ]
  },
  {
   "cell_type": "code",
   "execution_count": 106,
   "id": "6dfd3a3f-5aef-472b-9790-ac1e97c0b7ee",
   "metadata": {},
   "outputs": [
    {
     "data": {
      "text/plain": [
       "(278, 2)"
      ]
     },
     "execution_count": 106,
     "metadata": {},
     "output_type": "execute_result"
    }
   ],
   "source": [
    "X.shape"
   ]
  },
  {
   "cell_type": "code",
   "execution_count": 107,
   "id": "26741203-64b6-4f68-92e3-f59bf07f7e55",
   "metadata": {},
   "outputs": [],
   "source": [
    "from sklearn.model_selection import train_test_split\n",
    "\n",
    "X_train, X_test, y_train, y_test = train_test_split(X, y, test_size=0.2, random_state=42)"
   ]
  },
  {
   "cell_type": "markdown",
   "id": "4b22f4d4-94e9-4e98-870c-f9209c7add72",
   "metadata": {},
   "source": [
    "# criação do modelo "
   ]
  },
  {
   "cell_type": "markdown",
   "id": "eb60b410-a258-4322-984b-54146d78ca32",
   "metadata": {},
   "source": [
    "# treinamento"
   ]
  },
  {
   "cell_type": "code",
   "execution_count": 111,
   "id": "ef00f27b-ce66-44c8-bc55-cd62571a1812",
   "metadata": {},
   "outputs": [
    {
     "name": "stdout",
     "output_type": "stream",
     "text": [
      "Coefficients:  [   0.         4460.59544756]\n"
     ]
    }
   ],
   "source": [
    "from sklearn.linear_model import LinearRegression\n",
    "lr_model = LinearRegression()\n",
    "lr_model.fit(X_train, y_train)\n",
    "print ('Coefficients: ', lr_model.coef_)"
   ]
  },
  {
   "cell_type": "markdown",
   "id": "0492e4e1-5cdf-4735-99b8-c84f09833fa2",
   "metadata": {},
   "source": [
    "# teste"
   ]
  },
  {
   "cell_type": "code",
   "execution_count": 112,
   "id": "dcbe5606-05ce-444a-915f-7f401963459f",
   "metadata": {},
   "outputs": [],
   "source": [
    "y_pred_lr_train = lr_model.predict(X_train)\n",
    "y_pred_lr_test = lr_model.predict(X_test)"
   ]
  },
  {
   "cell_type": "markdown",
   "id": "94b63a90-6bfa-4694-992c-0202353efbb4",
   "metadata": {},
   "source": [
    "# resultados"
   ]
  },
  {
   "cell_type": "code",
   "execution_count": 113,
   "id": "f5408e27-c430-4488-96b7-0246fcf46d22",
   "metadata": {},
   "outputs": [],
   "source": [
    "from sklearn.metrics import mean_squared_error, r2_score\n",
    "\n",
    "lr_train_mse = mean_squared_error(y_train, y_pred_lr_train)\n",
    "lr_train_r2 = r2_score(y_train, y_pred_lr_train)\n",
    "\n",
    "lr_test_mse = mean_squared_error(y_test, y_pred_lr_test)\n",
    "lr_test_r2 = r2_score(y_test, y_pred_lr_test)"
   ]
  },
  {
   "cell_type": "code",
   "execution_count": 114,
   "id": "0b15db7f-cdb6-451e-943f-d08595401386",
   "metadata": {},
   "outputs": [
    {
     "name": "stdout",
     "output_type": "stream",
     "text": [
      "LR MSE train error 101747740211.06813\n",
      "LR R2 train error 0.11947637658818844\n",
      "LR MSE test error 149053145893.63962\n",
      "LR R2 test error -0.3998340995573677\n"
     ]
    }
   ],
   "source": [
    "print(f\"LR MSE train error\", lr_train_mse)\n",
    "print(f\"LR R2 train error\", lr_train_r2)\n",
    "print(f\"LR MSE test error\", lr_test_mse)\n",
    "print(f\"LR R2 test error\", lr_test_r2)"
   ]
  },
  {
   "cell_type": "markdown",
   "id": "ba2b2041-31c3-47d0-80e4-95d447f5db67",
   "metadata": {},
   "source": [
    "# previsão"
   ]
  },
  {
   "cell_type": "code",
   "execution_count": 117,
   "id": "d12fdaf1-bb28-4007-bdd8-ed394ed3d55f",
   "metadata": {},
   "outputs": [
    {
     "data": {
      "text/plain": [
       "Text(0.5, 1.0, 'Linear Regression Model')"
      ]
     },
     "execution_count": 117,
     "metadata": {},
     "output_type": "execute_result"
    },
    {
     "data": {
      "image/png": "[encoded data removed]",
      "text/plain": [
       "<Figure size 500x500 with 1 Axes>"
      ]
     },
     "metadata": {},
     "output_type": "display_data"
    }
   ],
   "source": [
    "import numpy as np\n",
    "\n",
    "plt.figure(figsize=(5,5))\n",
    "plt.scatter(y_test, y_pred_lr_test, color='b', alpha=0.3)\n",
    "\n",
    "z = np.polyfit(y_test, y_pred_lr_test, 1)\n",
    "p = np.poly1d(z)\n",
    "\n",
    "plt.plot(y_test, p(y_test), '#F8766D')\n",
    "plt.ylabel(\"Predicted Values\")\n",
    "plt.xlabel(\"Acutal Values\")\n",
    "plt.title(\"Linear Regression Model\")"
   ]
  }
 ],
 "metadata": {
  "kernelspec": {
   "display_name": "Python 3 (ipykernel)",
   "language": "python",
   "name": "python3"
  },
  "language_info": {
   "codemirror_mode": {
    "name": "ipython",
    "version": 3
   },
   "file_extension": ".py",
   "mimetype": "text/x-python",
   "name": "python",
   "nbconvert_exporter": "python",
   "pygments_lexer": "ipython3",
   "version": "3.13.5"
  }
 },
 "nbformat": 4,
 "nbformat_minor": 5
}
