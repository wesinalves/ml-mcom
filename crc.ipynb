{
 "cells": [
  {
   "cell_type": "markdown",
   "id": "9021e18c-8b69-454c-a956-1730b2076fd1",
   "metadata": {},
   "source": [
    "# Análise exploratório dos dados do serviço GSAC"
   ]
  },
  {
   "cell_type": "markdown",
   "id": "9980d0c2-2227-45d2-b3c5-b74001e74fdb",
   "metadata": {},
   "source": [
    "# Carregar dados"
   ]
  },
  {
   "cell_type": "code",
   "execution_count": 3,
   "id": "0bb33dd2-e850-4a28-a80f-9e98ae75c4ff",
   "metadata": {},
   "outputs": [],
   "source": [
    "import pandas as pd\n",
    "df = pd.read_csv(\"dados/1_CRC_DESFAZIMENTO_jan.csv\", sep=\",\")"
   ]
  },
  {
   "cell_type": "code",
   "execution_count": 4,
   "id": "550f5392-9241-492f-bab5-40330bc6b058",
   "metadata": {},
   "outputs": [
    {
     "data": {
      "text/html": [
       "<div>\n",
       "<style scoped>\n",
       "    .dataframe tbody tr th:only-of-type {\n",
       "        vertical-align: middle;\n",
       "    }\n",
       "\n",
       "    .dataframe tbody tr th {\n",
       "        vertical-align: top;\n",
       "    }\n",
       "\n",
       "    .dataframe thead th {\n",
       "        text-align: right;\n",
       "    }\n",
       "</style>\n",
       "<table border=\"1\" class=\"dataframe\">\n",
       "  <thead>\n",
       "    <tr style=\"text-align: right;\">\n",
       "      <th></th>\n",
       "      <th>ANO</th>\n",
       "      <th>ORGÃO DOADOR</th>\n",
       "      <th>UF</th>\n",
       "      <th>Região</th>\n",
       "      <th>MUNICIPIO</th>\n",
       "      <th>CPU</th>\n",
       "      <th>NOTE</th>\n",
       "      <th>MONITOR</th>\n",
       "      <th>IMPRESS</th>\n",
       "      <th>OUTROS</th>\n",
       "      <th>RESULTADO</th>\n",
       "      <th>ENTIDADE</th>\n",
       "    </tr>\n",
       "  </thead>\n",
       "  <tbody>\n",
       "    <tr>\n",
       "      <th>0</th>\n",
       "      <td>4036</td>\n",
       "      <td>Advocacia-Geral da União - AGU</td>\n",
       "      <td>SE</td>\n",
       "      <td>Nordeste</td>\n",
       "      <td>Aracaju</td>\n",
       "      <td>80.0</td>\n",
       "      <td>10.0</td>\n",
       "      <td>29.0</td>\n",
       "      <td>26.0</td>\n",
       "      <td>86.0</td>\n",
       "      <td>DESINTERESSE</td>\n",
       "      <td>DESINTERESSE</td>\n",
       "    </tr>\n",
       "    <tr>\n",
       "      <th>1</th>\n",
       "      <td>2015</td>\n",
       "      <td>Advocacia-Geral da União - AGU</td>\n",
       "      <td>SP</td>\n",
       "      <td>Sudeste</td>\n",
       "      <td>Araraquara</td>\n",
       "      <td>1.0</td>\n",
       "      <td>0.0</td>\n",
       "      <td>0.0</td>\n",
       "      <td>0.0</td>\n",
       "      <td>3.0</td>\n",
       "      <td>LIBERADA</td>\n",
       "      <td>LIBERADA</td>\n",
       "    </tr>\n",
       "    <tr>\n",
       "      <th>2</th>\n",
       "      <td>2019</td>\n",
       "      <td>Advocacia-Geral da União - AGU</td>\n",
       "      <td>SP</td>\n",
       "      <td>Sudeste</td>\n",
       "      <td>Bauru</td>\n",
       "      <td>1.0</td>\n",
       "      <td>0.0</td>\n",
       "      <td>5.0</td>\n",
       "      <td>0.0</td>\n",
       "      <td>3.0</td>\n",
       "      <td>DESINTERESSE</td>\n",
       "      <td>DESINTERESSE</td>\n",
       "    </tr>\n",
       "    <tr>\n",
       "      <th>3</th>\n",
       "      <td>2017</td>\n",
       "      <td>Advocacia-Geral da União - AGU</td>\n",
       "      <td>PA</td>\n",
       "      <td>Norte</td>\n",
       "      <td>Belém</td>\n",
       "      <td>26.0</td>\n",
       "      <td>4.0</td>\n",
       "      <td>8.0</td>\n",
       "      <td>28.0</td>\n",
       "      <td>18.0</td>\n",
       "      <td>DOADA</td>\n",
       "      <td>EMAÚS</td>\n",
       "    </tr>\n",
       "    <tr>\n",
       "      <th>4</th>\n",
       "      <td>2015</td>\n",
       "      <td>Advocacia-Geral da União - AGU</td>\n",
       "      <td>MG</td>\n",
       "      <td>Sudeste</td>\n",
       "      <td>Belo Horizonte</td>\n",
       "      <td>43.0</td>\n",
       "      <td>1.0</td>\n",
       "      <td>0.0</td>\n",
       "      <td>13.0</td>\n",
       "      <td>117.0</td>\n",
       "      <td>LIBERADA</td>\n",
       "      <td>LIBERADA</td>\n",
       "    </tr>\n",
       "  </tbody>\n",
       "</table>\n",
       "</div>"
      ],
      "text/plain": [
       "    ANO                    ORGÃO DOADOR  UF    Região       MUNICIPIO   CPU  \\\n",
       "0  4036  Advocacia-Geral da União - AGU  SE  Nordeste         Aracaju  80.0   \n",
       "1  2015  Advocacia-Geral da União - AGU  SP   Sudeste      Araraquara   1.0   \n",
       "2  2019  Advocacia-Geral da União - AGU  SP   Sudeste           Bauru   1.0   \n",
       "3  2017  Advocacia-Geral da União - AGU  PA     Norte           Belém  26.0   \n",
       "4  2015  Advocacia-Geral da União - AGU  MG   Sudeste  Belo Horizonte  43.0   \n",
       "\n",
       "   NOTE  MONITOR  IMPRESS  OUTROS     RESULTADO      ENTIDADE  \n",
       "0  10.0     29.0     26.0    86.0  DESINTERESSE  DESINTERESSE  \n",
       "1   0.0      0.0      0.0     3.0      LIBERADA      LIBERADA  \n",
       "2   0.0      5.0      0.0     3.0  DESINTERESSE  DESINTERESSE  \n",
       "3   4.0      8.0     28.0    18.0         DOADA         EMAÚS  \n",
       "4   1.0      0.0     13.0   117.0      LIBERADA      LIBERADA  "
      ]
     },
     "execution_count": 4,
     "metadata": {},
     "output_type": "execute_result"
    }
   ],
   "source": [
    "df.head()"
   ]
  },
  {
   "cell_type": "code",
   "execution_count": 9,
   "id": "90d8de49-ba05-46be-8506-9584d5740ed8",
   "metadata": {},
   "outputs": [
    {
     "name": "stdout",
     "output_type": "stream",
     "text": [
      "<class 'pandas.core.frame.DataFrame'>\n",
      "RangeIndex: 1500 entries, 0 to 1499\n",
      "Data columns (total 12 columns):\n",
      " #   Column        Non-Null Count  Dtype  \n",
      "---  ------        --------------  -----  \n",
      " 0   ANO           1500 non-null   object \n",
      " 1   ORGÃO DOADOR  1463 non-null   object \n",
      " 2   UF            1463 non-null   object \n",
      " 3   Região        1463 non-null   object \n",
      " 4   MUNICIPIO     1463 non-null   object \n",
      " 5   CPU           1463 non-null   float64\n",
      " 6   NOTE          1457 non-null   float64\n",
      " 7   MONITOR       1462 non-null   float64\n",
      " 8   IMPRESS       1460 non-null   float64\n",
      " 9   OUTROS        1461 non-null   float64\n",
      " 10  RESULTADO     1463 non-null   object \n",
      " 11  ENTIDADE      1463 non-null   object \n",
      "dtypes: float64(5), object(7)\n",
      "memory usage: 140.8+ KB\n"
     ]
    }
   ],
   "source": [
    "df.info()"
   ]
  },
  {
   "cell_type": "code",
   "execution_count": 10,
   "id": "f9df495d-e326-4217-8829-271c5eb5a5f2",
   "metadata": {},
   "outputs": [
    {
     "data": {
      "text/plain": [
       "(1500, 12)"
      ]
     },
     "execution_count": 10,
     "metadata": {},
     "output_type": "execute_result"
    }
   ],
   "source": [
    "df.shape"
   ]
  },
  {
   "cell_type": "code",
   "execution_count": 11,
   "id": "21bfb0c5-d2db-46ba-bddc-90f2f36454b8",
   "metadata": {},
   "outputs": [
    {
     "data": {
      "text/plain": [
       "ANO              0\n",
       "ORGÃO DOADOR    37\n",
       "UF              37\n",
       "Região          37\n",
       "MUNICIPIO       37\n",
       "CPU             37\n",
       "NOTE            43\n",
       "MONITOR         38\n",
       "IMPRESS         40\n",
       "OUTROS          39\n",
       "RESULTADO       37\n",
       "ENTIDADE        37\n",
       "dtype: int64"
      ]
     },
     "execution_count": 11,
     "metadata": {},
     "output_type": "execute_result"
    }
   ],
   "source": [
    "df.isnull().sum()"
   ]
  },
  {
   "cell_type": "code",
   "execution_count": null,
   "id": "28eaa825-ec12-402f-84a9-5aab65cf8c39",
   "metadata": {},
   "outputs": [],
   "source": []
  }
 ],
 "metadata": {
  "kernelspec": {
   "display_name": "Python 3 (ipykernel)",
   "language": "python",
   "name": "python3"
  },
  "language_info": {
   "codemirror_mode": {
    "name": "ipython",
    "version": 3
   },
   "file_extension": ".py",
   "mimetype": "text/x-python",
   "name": "python",
   "nbconvert_exporter": "python",
   "pygments_lexer": "ipython3",
   "version": "3.13.5"
  }
 },
 "nbformat": 4,
 "nbformat_minor": 5
}
