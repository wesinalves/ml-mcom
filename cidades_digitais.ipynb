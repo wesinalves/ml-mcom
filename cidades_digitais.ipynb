{
 "cells": [
  {
   "cell_type": "markdown",
   "id": "e4385c8d-59ca-4daf-9651-ec676e99375f",
   "metadata": {},
   "source": [
    "# Regressão linear sobre os dados abertos do programa cidades digitais\n",
    "O programa Cidades Digitais promove a inclusão dos órgãos públicos das Prefeituras Municipais no mundo das TIC, com os objetivos de modernizar a gestão, ampliar o acesso aos serviços públicos e promover o desenvolvimento dos municípios brasileiros por meio da tecnologia\n",
    "\n",
    "* Ponto de enlace e acesso social - PEAS, ponto central da\n",
    "Cidade Digital, o local onde chega o backhaul de internet e onde se\n",
    "prevê a instalação da SGI (solução gerenciadora da infraestrutura);\n",
    "* Solução gerenciadora da infraestrutura - SGI, núcleo de\n",
    "gerenciamento - onde estarão instalados os servidores de gerenciamento da rede e controle dos usuários;\n",
    "* PAG/PCG - Pontos de Acesso de Governo/Pontos de Conexão de Governo - estes pontos se destinam ao atendimento de\n",
    "espaços associados à administração pública e à prestação de serviços\n",
    "à população por qualquer esfera de governo, conforme projeto aprovado pelo MC;\n",
    "* PAP - Pontos de Acesso Público - pontos com a finalidade de permitir acesso aberto à população (hotspots);"
   ]
  },
  {
   "cell_type": "markdown",
   "id": "28819492-e78f-4f2d-88d4-98aff36504ef",
   "metadata": {},
   "source": [
    "# carregar dados"
   ]
  },
  {
   "cell_type": "code",
   "execution_count": 1,
   "id": "bafbf312-7c91-4504-937f-42c6830582e2",
   "metadata": {},
   "outputs": [],
   "source": [
    "import pandas as pd\n",
    "#df = pd.read_csv('dados/dadosabertos_cidadesdigitais_jan.csv', sep=';')\n",
    "df = pd.read_csv('dados/cidades_digitais_mesclado.csv')"
   ]
  },
  {
   "cell_type": "code",
   "execution_count": 2,
   "id": "9a3e8ce6-cf5a-42a6-808c-27ca99ce02af",
   "metadata": {},
   "outputs": [
    {
     "data": {
      "text/html": [
       "<div>\n",
       "<style scoped>\n",
       "    .dataframe tbody tr th:only-of-type {\n",
       "        vertical-align: middle;\n",
       "    }\n",
       "\n",
       "    .dataframe tbody tr th {\n",
       "        vertical-align: top;\n",
       "    }\n",
       "\n",
       "    .dataframe thead th {\n",
       "        text-align: right;\n",
       "    }\n",
       "</style>\n",
       "<table border=\"1\" class=\"dataframe\">\n",
       "  <thead>\n",
       "    <tr style=\"text-align: right;\">\n",
       "      <th></th>\n",
       "      <th>Unnamed: 0</th>\n",
       "      <th>id</th>\n",
       "      <th>codigo_ibge</th>\n",
       "      <th>nome</th>\n",
       "      <th>uf</th>\n",
       "      <th>latitude</th>\n",
       "      <th>longitude</th>\n",
       "      <th>UF</th>\n",
       "      <th>Cidade</th>\n",
       "      <th>CÓDIGO IBGE</th>\n",
       "      <th>...</th>\n",
       "      <th>Unnamed: 991</th>\n",
       "      <th>Unnamed: 992</th>\n",
       "      <th>Unnamed: 993</th>\n",
       "      <th>Unnamed: 994</th>\n",
       "      <th>Unnamed: 995</th>\n",
       "      <th>Unnamed: 996</th>\n",
       "      <th>Unnamed: 997</th>\n",
       "      <th>Unnamed: 998</th>\n",
       "      <th>Unnamed: 999</th>\n",
       "      <th>Unnamed: 1000</th>\n",
       "    </tr>\n",
       "  </thead>\n",
       "  <tbody>\n",
       "    <tr>\n",
       "      <th>0</th>\n",
       "      <td>0</td>\n",
       "      <td>17</td>\n",
       "      <td>4204806</td>\n",
       "      <td>Curitibanos</td>\n",
       "      <td>SC</td>\n",
       "      <td>-27.292924</td>\n",
       "      <td>-50.617546</td>\n",
       "      <td>SC</td>\n",
       "      <td>Curitibanos</td>\n",
       "      <td>4204806.0</td>\n",
       "      <td>...</td>\n",
       "      <td>NaN</td>\n",
       "      <td>NaN</td>\n",
       "      <td>NaN</td>\n",
       "      <td>NaN</td>\n",
       "      <td>NaN</td>\n",
       "      <td>NaN</td>\n",
       "      <td>NaN</td>\n",
       "      <td>NaN</td>\n",
       "      <td>NaN</td>\n",
       "      <td>NaN</td>\n",
       "    </tr>\n",
       "    <tr>\n",
       "      <th>1</th>\n",
       "      <td>1</td>\n",
       "      <td>23</td>\n",
       "      <td>2301307</td>\n",
       "      <td>Araripe</td>\n",
       "      <td>CE</td>\n",
       "      <td>-7.239286</td>\n",
       "      <td>-40.076542</td>\n",
       "      <td>CE</td>\n",
       "      <td>Araripe</td>\n",
       "      <td>2301307.0</td>\n",
       "      <td>...</td>\n",
       "      <td>NaN</td>\n",
       "      <td>NaN</td>\n",
       "      <td>NaN</td>\n",
       "      <td>NaN</td>\n",
       "      <td>NaN</td>\n",
       "      <td>NaN</td>\n",
       "      <td>NaN</td>\n",
       "      <td>NaN</td>\n",
       "      <td>NaN</td>\n",
       "      <td>NaN</td>\n",
       "    </tr>\n",
       "    <tr>\n",
       "      <th>2</th>\n",
       "      <td>2</td>\n",
       "      <td>24</td>\n",
       "      <td>2412104</td>\n",
       "      <td>São João do Sabugi</td>\n",
       "      <td>RN</td>\n",
       "      <td>-6.690416</td>\n",
       "      <td>-37.188507</td>\n",
       "      <td>RN</td>\n",
       "      <td>São João do Sabugi</td>\n",
       "      <td>2412104.0</td>\n",
       "      <td>...</td>\n",
       "      <td>NaN</td>\n",
       "      <td>NaN</td>\n",
       "      <td>NaN</td>\n",
       "      <td>NaN</td>\n",
       "      <td>NaN</td>\n",
       "      <td>NaN</td>\n",
       "      <td>NaN</td>\n",
       "      <td>NaN</td>\n",
       "      <td>NaN</td>\n",
       "      <td>NaN</td>\n",
       "    </tr>\n",
       "    <tr>\n",
       "      <th>3</th>\n",
       "      <td>3</td>\n",
       "      <td>38</td>\n",
       "      <td>3550100</td>\n",
       "      <td>São Manuel</td>\n",
       "      <td>SP</td>\n",
       "      <td>-22.682258</td>\n",
       "      <td>-48.540428</td>\n",
       "      <td>SP</td>\n",
       "      <td>São Manuel</td>\n",
       "      <td>3550100.0</td>\n",
       "      <td>...</td>\n",
       "      <td>NaN</td>\n",
       "      <td>NaN</td>\n",
       "      <td>NaN</td>\n",
       "      <td>NaN</td>\n",
       "      <td>NaN</td>\n",
       "      <td>NaN</td>\n",
       "      <td>NaN</td>\n",
       "      <td>NaN</td>\n",
       "      <td>NaN</td>\n",
       "      <td>NaN</td>\n",
       "    </tr>\n",
       "    <tr>\n",
       "      <th>4</th>\n",
       "      <td>4</td>\n",
       "      <td>41</td>\n",
       "      <td>3550407</td>\n",
       "      <td>São Pedro</td>\n",
       "      <td>SP</td>\n",
       "      <td>-22.558177</td>\n",
       "      <td>-47.924688</td>\n",
       "      <td>SP</td>\n",
       "      <td>São Pedro</td>\n",
       "      <td>3550407.0</td>\n",
       "      <td>...</td>\n",
       "      <td>NaN</td>\n",
       "      <td>NaN</td>\n",
       "      <td>NaN</td>\n",
       "      <td>NaN</td>\n",
       "      <td>NaN</td>\n",
       "      <td>NaN</td>\n",
       "      <td>NaN</td>\n",
       "      <td>NaN</td>\n",
       "      <td>NaN</td>\n",
       "      <td>NaN</td>\n",
       "    </tr>\n",
       "  </tbody>\n",
       "</table>\n",
       "<p>5 rows × 1008 columns</p>\n",
       "</div>"
      ],
      "text/plain": [
       "   Unnamed: 0  id  codigo_ibge                nome  uf   latitude  longitude  \\\n",
       "0           0  17      4204806         Curitibanos  SC -27.292924 -50.617546   \n",
       "1           1  23      2301307             Araripe  CE  -7.239286 -40.076542   \n",
       "2           2  24      2412104  São João do Sabugi  RN  -6.690416 -37.188507   \n",
       "3           3  38      3550100          São Manuel  SP -22.682258 -48.540428   \n",
       "4           4  41      3550407           São Pedro  SP -22.558177 -47.924688   \n",
       "\n",
       "   UF              Cidade  CÓDIGO IBGE  ... Unnamed: 991 Unnamed: 992  \\\n",
       "0  SC         Curitibanos    4204806.0  ...          NaN          NaN   \n",
       "1  CE             Araripe    2301307.0  ...          NaN          NaN   \n",
       "2  RN  São João do Sabugi    2412104.0  ...          NaN          NaN   \n",
       "3  SP          São Manuel    3550100.0  ...          NaN          NaN   \n",
       "4  SP           São Pedro    3550407.0  ...          NaN          NaN   \n",
       "\n",
       "   Unnamed: 993  Unnamed: 994  Unnamed: 995  Unnamed: 996  Unnamed: 997  \\\n",
       "0           NaN           NaN           NaN           NaN           NaN   \n",
       "1           NaN           NaN           NaN           NaN           NaN   \n",
       "2           NaN           NaN           NaN           NaN           NaN   \n",
       "3           NaN           NaN           NaN           NaN           NaN   \n",
       "4           NaN           NaN           NaN           NaN           NaN   \n",
       "\n",
       "  Unnamed: 998 Unnamed: 999  Unnamed: 1000  \n",
       "0          NaN          NaN            NaN  \n",
       "1          NaN          NaN            NaN  \n",
       "2          NaN          NaN            NaN  \n",
       "3          NaN          NaN            NaN  \n",
       "4          NaN          NaN            NaN  \n",
       "\n",
       "[5 rows x 1008 columns]"
      ]
     },
     "execution_count": 2,
     "metadata": {},
     "output_type": "execute_result"
    }
   ],
   "source": [
    "df.head()"
   ]
  },
  {
   "cell_type": "code",
   "execution_count": 3,
   "id": "710e528a-4187-4be0-b4ec-7e10ff160288",
   "metadata": {},
   "outputs": [],
   "source": [
    "df = df[['uf','nome', 'codigo_ibge', 'latitude', 'longitude', 'POPULAÇÃO ESTIMADA', 'Valor Previsto', 'PEAS', 'PAG', 'PCG', 'PONTOS ATENDIDOS', 'Status', 'Status Implantação']]"
   ]
  },
  {
   "cell_type": "markdown",
   "id": "f3fffb10-5234-4796-966b-56a30037e820",
   "metadata": {},
   "source": [
    "# análise exploratória dos dados"
   ]
  },
  {
   "cell_type": "code",
   "execution_count": 4,
   "id": "49f2cb65-272a-4cbc-938c-737d7c199856",
   "metadata": {},
   "outputs": [
    {
     "data": {
      "text/plain": [
       "(334, 13)"
      ]
     },
     "execution_count": 4,
     "metadata": {},
     "output_type": "execute_result"
    }
   ],
   "source": [
    "df.shape"
   ]
  },
  {
   "cell_type": "code",
   "execution_count": 5,
   "id": "ed069bd3-318f-466d-bf96-54e7f8e0ec29",
   "metadata": {},
   "outputs": [
    {
     "data": {
      "text/html": [
       "<div>\n",
       "<style scoped>\n",
       "    .dataframe tbody tr th:only-of-type {\n",
       "        vertical-align: middle;\n",
       "    }\n",
       "\n",
       "    .dataframe tbody tr th {\n",
       "        vertical-align: top;\n",
       "    }\n",
       "\n",
       "    .dataframe thead th {\n",
       "        text-align: right;\n",
       "    }\n",
       "</style>\n",
       "<table border=\"1\" class=\"dataframe\">\n",
       "  <thead>\n",
       "    <tr style=\"text-align: right;\">\n",
       "      <th></th>\n",
       "      <th>codigo_ibge</th>\n",
       "      <th>latitude</th>\n",
       "      <th>longitude</th>\n",
       "      <th>PEAS</th>\n",
       "      <th>PAG</th>\n",
       "      <th>PCG</th>\n",
       "      <th>PONTOS ATENDIDOS</th>\n",
       "    </tr>\n",
       "  </thead>\n",
       "  <tbody>\n",
       "    <tr>\n",
       "      <th>count</th>\n",
       "      <td>3.340000e+02</td>\n",
       "      <td>334.000000</td>\n",
       "      <td>334.000000</td>\n",
       "      <td>334.0</td>\n",
       "      <td>334.000000</td>\n",
       "      <td>279.000000</td>\n",
       "      <td>334.000000</td>\n",
       "    </tr>\n",
       "    <tr>\n",
       "      <th>mean</th>\n",
       "      <td>2.895998e+06</td>\n",
       "      <td>-12.910098</td>\n",
       "      <td>-45.363799</td>\n",
       "      <td>1.0</td>\n",
       "      <td>4.835329</td>\n",
       "      <td>16.885305</td>\n",
       "      <td>22.461078</td>\n",
       "    </tr>\n",
       "    <tr>\n",
       "      <th>std</th>\n",
       "      <td>9.685694e+05</td>\n",
       "      <td>8.514918</td>\n",
       "      <td>6.531698</td>\n",
       "      <td>0.0</td>\n",
       "      <td>6.207605</td>\n",
       "      <td>10.396515</td>\n",
       "      <td>9.632121</td>\n",
       "    </tr>\n",
       "    <tr>\n",
       "      <th>min</th>\n",
       "      <td>1.100106e+06</td>\n",
       "      <td>-31.763669</td>\n",
       "      <td>-71.444935</td>\n",
       "      <td>1.0</td>\n",
       "      <td>0.000000</td>\n",
       "      <td>0.000000</td>\n",
       "      <td>5.000000</td>\n",
       "    </tr>\n",
       "    <tr>\n",
       "      <th>25%</th>\n",
       "      <td>2.209124e+06</td>\n",
       "      <td>-21.213465</td>\n",
       "      <td>-49.833703</td>\n",
       "      <td>1.0</td>\n",
       "      <td>2.000000</td>\n",
       "      <td>10.000000</td>\n",
       "      <td>15.250000</td>\n",
       "    </tr>\n",
       "    <tr>\n",
       "      <th>50%</th>\n",
       "      <td>2.902807e+06</td>\n",
       "      <td>-11.019275</td>\n",
       "      <td>-44.221678</td>\n",
       "      <td>1.0</td>\n",
       "      <td>2.000000</td>\n",
       "      <td>15.000000</td>\n",
       "      <td>21.000000</td>\n",
       "    </tr>\n",
       "    <tr>\n",
       "      <th>75%</th>\n",
       "      <td>3.514815e+06</td>\n",
       "      <td>-5.667738</td>\n",
       "      <td>-40.280642</td>\n",
       "      <td>1.0</td>\n",
       "      <td>2.000000</td>\n",
       "      <td>22.500000</td>\n",
       "      <td>27.000000</td>\n",
       "    </tr>\n",
       "    <tr>\n",
       "      <th>max</th>\n",
       "      <td>5.300108e+06</td>\n",
       "      <td>1.746762</td>\n",
       "      <td>-35.044884</td>\n",
       "      <td>1.0</td>\n",
       "      <td>30.000000</td>\n",
       "      <td>52.000000</td>\n",
       "      <td>58.000000</td>\n",
       "    </tr>\n",
       "  </tbody>\n",
       "</table>\n",
       "</div>"
      ],
      "text/plain": [
       "        codigo_ibge    latitude   longitude   PEAS         PAG         PCG  \\\n",
       "count  3.340000e+02  334.000000  334.000000  334.0  334.000000  279.000000   \n",
       "mean   2.895998e+06  -12.910098  -45.363799    1.0    4.835329   16.885305   \n",
       "std    9.685694e+05    8.514918    6.531698    0.0    6.207605   10.396515   \n",
       "min    1.100106e+06  -31.763669  -71.444935    1.0    0.000000    0.000000   \n",
       "25%    2.209124e+06  -21.213465  -49.833703    1.0    2.000000   10.000000   \n",
       "50%    2.902807e+06  -11.019275  -44.221678    1.0    2.000000   15.000000   \n",
       "75%    3.514815e+06   -5.667738  -40.280642    1.0    2.000000   22.500000   \n",
       "max    5.300108e+06    1.746762  -35.044884    1.0   30.000000   52.000000   \n",
       "\n",
       "       PONTOS ATENDIDOS  \n",
       "count        334.000000  \n",
       "mean          22.461078  \n",
       "std            9.632121  \n",
       "min            5.000000  \n",
       "25%           15.250000  \n",
       "50%           21.000000  \n",
       "75%           27.000000  \n",
       "max           58.000000  "
      ]
     },
     "execution_count": 5,
     "metadata": {},
     "output_type": "execute_result"
    }
   ],
   "source": [
    "df.describe()"
   ]
  },
  {
   "cell_type": "code",
   "execution_count": 6,
   "id": "88a75fdc-e462-4907-9fc3-7a9b26f44897",
   "metadata": {},
   "outputs": [
    {
     "name": "stdout",
     "output_type": "stream",
     "text": [
      "<class 'pandas.core.frame.DataFrame'>\n",
      "RangeIndex: 334 entries, 0 to 333\n",
      "Data columns (total 13 columns):\n",
      " #   Column              Non-Null Count  Dtype  \n",
      "---  ------              --------------  -----  \n",
      " 0   uf                  334 non-null    object \n",
      " 1   nome                334 non-null    object \n",
      " 2   codigo_ibge         334 non-null    int64  \n",
      " 3   latitude            334 non-null    float64\n",
      " 4   longitude           334 non-null    float64\n",
      " 5   POPULAÇÃO ESTIMADA  334 non-null    object \n",
      " 6   Valor Previsto      334 non-null    object \n",
      " 7   PEAS                334 non-null    int64  \n",
      " 8   PAG                 334 non-null    int64  \n",
      " 9   PCG                 279 non-null    float64\n",
      " 10  PONTOS ATENDIDOS    334 non-null    int64  \n",
      " 11  Status              333 non-null    object \n",
      " 12  Status Implantação  334 non-null    object \n",
      "dtypes: float64(3), int64(4), object(6)\n",
      "memory usage: 34.1+ KB\n"
     ]
    }
   ],
   "source": [
    "df.info()"
   ]
  },
  {
   "cell_type": "code",
   "execution_count": 7,
   "id": "460a2f52-0abd-4b74-bbc4-4d6699d2443c",
   "metadata": {},
   "outputs": [
    {
     "data": {
      "text/plain": [
       "uf                     0\n",
       "nome                   0\n",
       "codigo_ibge            0\n",
       "latitude               0\n",
       "longitude              0\n",
       "POPULAÇÃO ESTIMADA     0\n",
       "Valor Previsto         0\n",
       "PEAS                   0\n",
       "PAG                    0\n",
       "PCG                   55\n",
       "PONTOS ATENDIDOS       0\n",
       "Status                 1\n",
       "Status Implantação     0\n",
       "dtype: int64"
      ]
     },
     "execution_count": 7,
     "metadata": {},
     "output_type": "execute_result"
    }
   ],
   "source": [
    "df.isnull().sum()"
   ]
  },
  {
   "cell_type": "markdown",
   "id": "ac28d998-894f-44c9-80c2-6ee2aa839c51",
   "metadata": {},
   "source": [
    "# limpeza dos dados"
   ]
  },
  {
   "cell_type": "code",
   "execution_count": 8,
   "id": "096ee473-723b-43f8-a20e-281e0d9e5a06",
   "metadata": {},
   "outputs": [],
   "source": [
    "# manipulando valores em falta\n",
    "df.dropna(inplace=True)"
   ]
  },
  {
   "cell_type": "code",
   "execution_count": 9,
   "id": "dafb7d02-01c7-45c7-86ff-73386a72bb5c",
   "metadata": {},
   "outputs": [],
   "source": [
    "df['POPULAÇÃO ESTIMADA'] = pd.to_numeric(df['POPULAÇÃO ESTIMADA'], errors='coerce')"
   ]
  },
  {
   "cell_type": "code",
   "execution_count": 10,
   "id": "e8d615c9-9691-4fb7-af32-dd82c59916aa",
   "metadata": {},
   "outputs": [],
   "source": [
    "x = df['Valor Previsto'].replace('[R$. ]', '', regex=True)\n",
    "x = x.replace('[,]', '.', regex=True)\n",
    "df['Valor Previsto'] = pd.to_numeric(x, errors='coerce')\n",
    "#df['Valor Previsto'] = df['Valor Previsto'].apply(lambda x: float(x.replace(\".\",\"\").replace(\",\",\".\")))\n",
    "#df['Valor Previsto']"
   ]
  },
  {
   "cell_type": "code",
   "execution_count": 11,
   "id": "fb63bf47-07bc-40cb-86bb-b1c08434fe92",
   "metadata": {},
   "outputs": [
    {
     "data": {
      "text/plain": [
       "0      1425445.82\n",
       "1       436666.00\n",
       "3      1119305.92\n",
       "4      1015248.54\n",
       "5      1980602.66\n",
       "          ...    \n",
       "329     577921.74\n",
       "330     555385.46\n",
       "331     772597.30\n",
       "332     800468.71\n",
       "333     547505.97\n",
       "Name: Valor Previsto, Length: 278, dtype: float64"
      ]
     },
     "execution_count": 11,
     "metadata": {},
     "output_type": "execute_result"
    }
   ],
   "source": [
    "df['Valor Previsto']"
   ]
  },
  {
   "cell_type": "code",
   "execution_count": 12,
   "id": "55090182-0050-4994-addd-07754b526e3b",
   "metadata": {},
   "outputs": [
    {
     "name": "stdout",
     "output_type": "stream",
     "text": [
      "<class 'pandas.core.frame.DataFrame'>\n",
      "Index: 278 entries, 0 to 333\n",
      "Data columns (total 13 columns):\n",
      " #   Column              Non-Null Count  Dtype  \n",
      "---  ------              --------------  -----  \n",
      " 0   uf                  278 non-null    object \n",
      " 1   nome                278 non-null    object \n",
      " 2   codigo_ibge         278 non-null    int64  \n",
      " 3   latitude            278 non-null    float64\n",
      " 4   longitude           278 non-null    float64\n",
      " 5   POPULAÇÃO ESTIMADA  278 non-null    float64\n",
      " 6   Valor Previsto      278 non-null    float64\n",
      " 7   PEAS                278 non-null    int64  \n",
      " 8   PAG                 278 non-null    int64  \n",
      " 9   PCG                 278 non-null    float64\n",
      " 10  PONTOS ATENDIDOS    278 non-null    int64  \n",
      " 11  Status              278 non-null    object \n",
      " 12  Status Implantação  278 non-null    object \n",
      "dtypes: float64(5), int64(4), object(4)\n",
      "memory usage: 30.4+ KB\n"
     ]
    }
   ],
   "source": [
    "df.info()"
   ]
  },
  {
   "cell_type": "code",
   "execution_count": 13,
   "id": "0f073157-a726-46b4-bb2f-a80453c5e05e",
   "metadata": {},
   "outputs": [
    {
     "data": {
      "text/html": [
       "<div>\n",
       "<style scoped>\n",
       "    .dataframe tbody tr th:only-of-type {\n",
       "        vertical-align: middle;\n",
       "    }\n",
       "\n",
       "    .dataframe tbody tr th {\n",
       "        vertical-align: top;\n",
       "    }\n",
       "\n",
       "    .dataframe thead th {\n",
       "        text-align: right;\n",
       "    }\n",
       "</style>\n",
       "<table border=\"1\" class=\"dataframe\">\n",
       "  <thead>\n",
       "    <tr style=\"text-align: right;\">\n",
       "      <th></th>\n",
       "      <th>Status</th>\n",
       "      <th>Percentage</th>\n",
       "    </tr>\n",
       "  </thead>\n",
       "  <tbody>\n",
       "    <tr>\n",
       "      <th>0</th>\n",
       "      <td>09 - Concluído/Arquivado</td>\n",
       "      <td>0.525180</td>\n",
       "    </tr>\n",
       "    <tr>\n",
       "      <th>1</th>\n",
       "      <td>10 - Arquivado (Motivos Diversos)</td>\n",
       "      <td>0.345324</td>\n",
       "    </tr>\n",
       "    <tr>\n",
       "      <th>2</th>\n",
       "      <td>03 - PE Aprovado. Aguardando OS do TI</td>\n",
       "      <td>0.061151</td>\n",
       "    </tr>\n",
       "    <tr>\n",
       "      <th>3</th>\n",
       "      <td>00 - Sem OS</td>\n",
       "      <td>0.057554</td>\n",
       "    </tr>\n",
       "    <tr>\n",
       "      <th>4</th>\n",
       "      <td>04 - OS Emitida (TI). Aguardando Projeto</td>\n",
       "      <td>0.007194</td>\n",
       "    </tr>\n",
       "    <tr>\n",
       "      <th>5</th>\n",
       "      <td>01 - OS Emitida (PE). Aguardando Projeto</td>\n",
       "      <td>0.003597</td>\n",
       "    </tr>\n",
       "  </tbody>\n",
       "</table>\n",
       "</div>"
      ],
      "text/plain": [
       "                                     Status  Percentage\n",
       "0                  09 - Concluído/Arquivado    0.525180\n",
       "1         10 - Arquivado (Motivos Diversos)    0.345324\n",
       "2     03 - PE Aprovado. Aguardando OS do TI    0.061151\n",
       "3                               00 - Sem OS    0.057554\n",
       "4  04 - OS Emitida (TI). Aguardando Projeto    0.007194\n",
       "5  01 - OS Emitida (PE). Aguardando Projeto    0.003597"
      ]
     },
     "execution_count": 13,
     "metadata": {},
     "output_type": "execute_result"
    }
   ],
   "source": [
    "df.Status.value_counts(normalize=True).reset_index(name = \"Percentage\")"
   ]
  },
  {
   "cell_type": "code",
   "execution_count": 14,
   "id": "c76f39aa-9c66-47c5-9651-35903a396427",
   "metadata": {},
   "outputs": [
    {
     "data": {
      "text/html": [
       "<div>\n",
       "<style scoped>\n",
       "    .dataframe tbody tr th:only-of-type {\n",
       "        vertical-align: middle;\n",
       "    }\n",
       "\n",
       "    .dataframe tbody tr th {\n",
       "        vertical-align: top;\n",
       "    }\n",
       "\n",
       "    .dataframe thead th {\n",
       "        text-align: right;\n",
       "    }\n",
       "</style>\n",
       "<table border=\"1\" class=\"dataframe\">\n",
       "  <thead>\n",
       "    <tr style=\"text-align: right;\">\n",
       "      <th></th>\n",
       "      <th>Status Implantação</th>\n",
       "      <th>Percentage</th>\n",
       "    </tr>\n",
       "  </thead>\n",
       "  <tbody>\n",
       "    <tr>\n",
       "      <th>0</th>\n",
       "      <td>Implantado</td>\n",
       "      <td>0.525180</td>\n",
       "    </tr>\n",
       "    <tr>\n",
       "      <th>1</th>\n",
       "      <td>Cancelada</td>\n",
       "      <td>0.345324</td>\n",
       "    </tr>\n",
       "    <tr>\n",
       "      <th>2</th>\n",
       "      <td>Sem previsão</td>\n",
       "      <td>0.122302</td>\n",
       "    </tr>\n",
       "    <tr>\n",
       "      <th>3</th>\n",
       "      <td>Em implantação</td>\n",
       "      <td>0.007194</td>\n",
       "    </tr>\n",
       "  </tbody>\n",
       "</table>\n",
       "</div>"
      ],
      "text/plain": [
       "  Status Implantação  Percentage\n",
       "0         Implantado    0.525180\n",
       "1          Cancelada    0.345324\n",
       "2       Sem previsão    0.122302\n",
       "3     Em implantação    0.007194"
      ]
     },
     "execution_count": 14,
     "metadata": {},
     "output_type": "execute_result"
    }
   ],
   "source": [
    "df['Status Implantação'].value_counts(normalize=True).reset_index(name = \"Percentage\")"
   ]
  },
  {
   "cell_type": "code",
   "execution_count": 15,
   "id": "ffbb82de-5458-4854-912b-81e345211df5",
   "metadata": {},
   "outputs": [
    {
     "data": {
      "text/plain": [
       "array([[2.],\n",
       "       [2.],\n",
       "       [2.],\n",
       "       [2.],\n",
       "       [2.],\n",
       "       [2.],\n",
       "       [0.],\n",
       "       [2.],\n",
       "       [2.],\n",
       "       [2.]])"
      ]
     },
     "execution_count": 15,
     "metadata": {},
     "output_type": "execute_result"
    }
   ],
   "source": [
    "from sklearn.preprocessing import OrdinalEncoder\n",
    "encoder = OrdinalEncoder()\n",
    "status_encoded = encoder.fit_transform(df[['Status Implantação']])\n",
    "status_encoded[:10]"
   ]
  },
  {
   "cell_type": "code",
   "execution_count": 27,
   "id": "ebb73199-55b0-4b64-8519-1381c657be1d",
   "metadata": {},
   "outputs": [
    {
     "name": "stdout",
     "output_type": "stream",
     "text": [
      "<class 'pandas.core.frame.DataFrame'>\n",
      "Index: 278 entries, 0 to 333\n",
      "Data columns (total 14 columns):\n",
      " #   Column              Non-Null Count  Dtype  \n",
      "---  ------              --------------  -----  \n",
      " 0   uf                  278 non-null    object \n",
      " 1   nome                278 non-null    object \n",
      " 2   codigo_ibge         278 non-null    int64  \n",
      " 3   latitude            278 non-null    float64\n",
      " 4   longitude           278 non-null    float64\n",
      " 5   POPULAÇÃO ESTIMADA  278 non-null    float64\n",
      " 6   Valor Previsto      278 non-null    float64\n",
      " 7   PEAS                278 non-null    int64  \n",
      " 8   PAG                 278 non-null    int64  \n",
      " 9   PCG                 278 non-null    float64\n",
      " 10  PONTOS ATENDIDOS    278 non-null    int64  \n",
      " 11  Status              278 non-null    object \n",
      " 12  Status Implantação  278 non-null    object \n",
      " 13  status_cat          278 non-null    float64\n",
      "dtypes: float64(6), int64(4), object(4)\n",
      "memory usage: 32.6+ KB\n"
     ]
    }
   ],
   "source": [
    "df[\"status_cat\"] = status_encoded\n",
    "df.info()"
   ]
  },
  {
   "cell_type": "code",
   "execution_count": 16,
   "id": "5af27c05-83dc-4fb9-979b-6af0ef9ca27a",
   "metadata": {},
   "outputs": [
    {
     "data": {
      "image/png": "[encoded data removed]",
      "text/plain": [
       "<Figure size 2000x1500 with 9 Axes>"
      ]
     },
     "metadata": {},
     "output_type": "display_data"
    }
   ],
   "source": [
    "%matplotlib inline\n",
    "import matplotlib.pyplot as plt\n",
    "df.hist(bins=50, figsize=(20,15))\n",
    "plt.show()"
   ]
  },
  {
   "cell_type": "code",
   "execution_count": 18,
   "id": "352a5c52-ff63-4d4f-b523-dde99e1786f0",
   "metadata": {},
   "outputs": [
    {
     "data": {
      "text/plain": [
       "Valor Previsto        1.000000\n",
       "PONTOS ATENDIDOS      0.720346\n",
       "PCG                   0.664903\n",
       "POPULAÇÃO ESTIMADA    0.243898\n",
       "PAG                  -0.053267\n",
       "longitude            -0.353570\n",
       "latitude             -0.354898\n",
       "PEAS                       NaN\n",
       "Name: Valor Previsto, dtype: float64"
      ]
     },
     "execution_count": 18,
     "metadata": {},
     "output_type": "execute_result"
    }
   ],
   "source": [
    "df_numeric = df[['latitude', 'longitude', 'POPULAÇÃO ESTIMADA', 'Valor Previsto', 'PEAS', 'PAG', 'PCG', 'PONTOS ATENDIDOS']]\n",
    "corr_matrix = df_numeric.corr()\n",
    "corr_matrix[\"Valor Previsto\"].sort_values(ascending=False)"
   ]
  },
  {
   "cell_type": "code",
   "execution_count": 50,
   "id": "3ca4eec1-270d-42c7-b372-3ff756cfad1d",
   "metadata": {},
   "outputs": [
    {
     "data": {
      "text/plain": [
       "<matplotlib.collections.PathCollection at 0x11ab7b250>"
      ]
     },
     "execution_count": 50,
     "metadata": {},
     "output_type": "execute_result"
    },
    {
     "data": {
      "image/png": "[encoded data removed]",
      "text/plain": [
       "<Figure size 500x500 with 1 Axes>"
      ]
     },
     "metadata": {},
     "output_type": "display_data"
    }
   ],
   "source": [
    "import matplotlib.pyplot as plt\n",
    "\n",
    "plt.figure(figsize=(5,5))\n",
    "plt.scatter(df['POPULAÇÃO ESTIMADA'], df['Valor Previsto'], color='b', alpha=0.3)"
   ]
  },
  {
   "cell_type": "code",
   "execution_count": 25,
   "id": "f8e89b22-e7f0-43ef-b5e2-ca02b24e5dc8",
   "metadata": {},
   "outputs": [
    {
     "data": {
      "text/plain": [
       "<Axes: xlabel='longitude', ylabel='latitude'>"
      ]
     },
     "execution_count": 25,
     "metadata": {},
     "output_type": "execute_result"
    },
    {
     "data": {
      "image/png": "[encoded data removed]",
      "text/plain": [
       "<Figure size 1000x700 with 2 Axes>"
      ]
     },
     "metadata": {},
     "output_type": "display_data"
    }
   ],
   "source": [
    "df.plot(kind=\"scatter\", x=\"longitude\", y=\"latitude\", alpha=0.4,\n",
    "       s=\"PONTOS ATENDIDOS\", label=\"Investimento\", figsize=(10,7),\n",
    "       c=status_encoded, cmap=plt.get_cmap(\"jet\"), colorbar=True)"
   ]
  },
  {
   "cell_type": "code",
   "execution_count": 26,
   "id": "58feedcb-a54a-4f3f-afa2-f7024e6b9f55",
   "metadata": {},
   "outputs": [
    {
     "data": {
      "text/plain": [
       "<Axes: xlabel='longitude', ylabel='latitude'>"
      ]
     },
     "execution_count": 26,
     "metadata": {},
     "output_type": "execute_result"
    },
    {
     "data": {
      "image/png": "[encoded data removed]",
      "text/plain": [
       "<Figure size 1000x700 with 2 Axes>"
      ]
     },
     "metadata": {},
     "output_type": "display_data"
    }
   ],
   "source": [
    "df.plot(kind=\"scatter\", x=\"longitude\", y=\"latitude\", alpha=0.4,\n",
    "       s=\"PONTOS ATENDIDOS\", label=\"Investimento\", figsize=(10,7),\n",
    "       c=\"Valor Previsto\", cmap=plt.get_cmap(\"jet\"), colorbar=True)"
   ]
  },
  {
   "cell_type": "markdown",
   "id": "577a41c1-041c-4ec5-b4b5-613e9bd55e8e",
   "metadata": {},
   "source": [
    "# preparação dos dados"
   ]
  },
  {
   "cell_type": "code",
   "execution_count": 61,
   "id": "b0b07f52-3f0f-48ec-9ad8-0cda58d28128",
   "metadata": {},
   "outputs": [],
   "source": [
    "from sklearn.compose import ColumnTransformer\n",
    "from sklearn.preprocessing import StandardScaler\n",
    "num_attribs = ['POPULAÇÃO ESTIMADA', 'Valor Previsto', 'PEAS', 'PAG', 'PCG', 'PONTOS ATENDIDOS']\n",
    "cat_attribs = ['Status Implantação']\n",
    "\n",
    "full_pipeline = ColumnTransformer([\n",
    "    (\"num\", StandardScaler(), num_attribs),\n",
    "    (\"cat\", OrdinalEncoder(), cat_attribs)\n",
    "])\n",
    "\n",
    "df_prepared = full_pipeline.fit_transform(df)"
   ]
  },
  {
   "cell_type": "code",
   "execution_count": 67,
   "id": "7445b101-0e46-434d-bc86-695069f228aa",
   "metadata": {},
   "outputs": [
    {
     "data": {
      "text/plain": [
       "array([2., 2., 2., 2., 2., 2., 0., 2., 2., 2., 0., 2., 0., 2., 0., 2., 0.,\n",
       "       3., 2., 2., 0., 0., 0., 0., 0., 2., 0., 0., 0., 0., 2., 0., 0., 0.,\n",
       "       0., 0., 0., 3., 0., 0., 0., 0., 0., 3., 2., 0., 0., 0., 0., 0., 0.,\n",
       "       0., 0., 0., 2., 0., 0., 0., 0., 2., 0., 0., 0., 0., 2., 3., 0., 2.,\n",
       "       0., 0., 0., 2., 0., 0., 0., 0., 0., 0., 2., 2., 2., 2., 2., 2., 0.,\n",
       "       2., 0., 2., 0., 2., 3., 0., 2., 3., 2., 0., 2., 2., 0., 2., 2., 0.,\n",
       "       2., 0., 2., 3., 3., 2., 2., 2., 0., 2., 3., 3., 3., 2., 0., 0., 3.,\n",
       "       2., 3., 2., 2., 0., 0., 2., 2., 2., 2., 1., 2., 3., 2., 3., 2., 2.,\n",
       "       3., 2., 2., 2., 2., 2., 2., 3., 2., 2., 2., 2., 2., 2., 2., 2., 0.,\n",
       "       2., 2., 2., 2., 2., 2., 2., 2., 2., 2., 2., 2., 2., 2., 3., 2., 2.,\n",
       "       2., 2., 3., 2., 2., 3., 2., 2., 0., 2., 3., 2., 2., 2., 2., 2., 2.,\n",
       "       3., 2., 2., 2., 2., 3., 0., 0., 0., 0., 3., 3., 0., 3., 2., 2., 0.,\n",
       "       2., 2., 2., 2., 3., 2., 1., 3., 2., 2., 2., 2., 2., 2., 2., 2., 2.,\n",
       "       2., 2., 2., 2., 2., 2., 2., 2., 3., 3., 3., 2., 2., 2., 2., 2., 2.,\n",
       "       2., 2., 2., 3., 2., 2., 3., 2., 3., 2., 2., 2., 0., 0., 2., 2., 0.,\n",
       "       0., 0., 0., 0., 0., 0., 0., 0., 0., 0., 2., 0., 2., 0., 0., 0., 0.,\n",
       "       0., 0., 0., 0., 0., 2.])"
      ]
     },
     "execution_count": 67,
     "metadata": {},
     "output_type": "execute_result"
    }
   ],
   "source": [
    "df_prepared[:, 6]"
   ]
  },
  {
   "cell_type": "code",
   "execution_count": 78,
   "id": "5bf4067c-ec26-47d6-982a-53071d261a7a",
   "metadata": {},
   "outputs": [],
   "source": [
    "import numpy as np\n",
    "X = np.c_[np.ones((278,1)), df_prepared[:,5], df_prepared[:,0]]\n",
    "y = df_prepared[:,1]"
   ]
  },
  {
   "cell_type": "code",
   "execution_count": 79,
   "id": "1720ef94-1b6d-4b73-9404-dddcc79a164e",
   "metadata": {},
   "outputs": [
    {
     "data": {
      "text/plain": [
       "(278, 3)"
      ]
     },
     "execution_count": 79,
     "metadata": {},
     "output_type": "execute_result"
    }
   ],
   "source": [
    "X.shape"
   ]
  },
  {
   "cell_type": "code",
   "execution_count": 80,
   "id": "26741203-64b6-4f68-92e3-f59bf07f7e55",
   "metadata": {},
   "outputs": [],
   "source": [
    "from sklearn.model_selection import train_test_split\n",
    "\n",
    "X_train, X_test, y_train, y_test = train_test_split(X, y, test_size=0.2, random_state=42)"
   ]
  },
  {
   "cell_type": "markdown",
   "id": "4b22f4d4-94e9-4e98-870c-f9209c7add72",
   "metadata": {},
   "source": [
    "# criação do modelo "
   ]
  },
  {
   "cell_type": "markdown",
   "id": "eb60b410-a258-4322-984b-54146d78ca32",
   "metadata": {},
   "source": [
    "# treinamento"
   ]
  },
  {
   "cell_type": "code",
   "execution_count": 81,
   "id": "ef00f27b-ce66-44c8-bc55-cd62571a1812",
   "metadata": {},
   "outputs": [
    {
     "name": "stdout",
     "output_type": "stream",
     "text": [
      "Coefficients:  [0.        0.7294014 0.1251191]\n"
     ]
    }
   ],
   "source": [
    "from sklearn.linear_model import LinearRegression\n",
    "lr_model = LinearRegression()\n",
    "lr_model.fit(X_train, y_train)\n",
    "print ('Coefficients: ', lr_model.coef_)"
   ]
  },
  {
   "cell_type": "markdown",
   "id": "0492e4e1-5cdf-4735-99b8-c84f09833fa2",
   "metadata": {},
   "source": [
    "# teste"
   ]
  },
  {
   "cell_type": "code",
   "execution_count": 82,
   "id": "dcbe5606-05ce-444a-915f-7f401963459f",
   "metadata": {},
   "outputs": [],
   "source": [
    "y_pred_lr_train = lr_model.predict(X_train)\n",
    "y_pred_lr_test = lr_model.predict(X_test)"
   ]
  },
  {
   "cell_type": "markdown",
   "id": "94b63a90-6bfa-4694-992c-0202353efbb4",
   "metadata": {},
   "source": [
    "# resultados"
   ]
  },
  {
   "cell_type": "code",
   "execution_count": 83,
   "id": "f5408e27-c430-4488-96b7-0246fcf46d22",
   "metadata": {},
   "outputs": [],
   "source": [
    "from sklearn.metrics import mean_squared_error, r2_score\n",
    "\n",
    "lr_train_mse = mean_squared_error(y_train, y_pred_lr_train)\n",
    "lr_train_r2 = r2_score(y_train, y_pred_lr_train)\n",
    "\n",
    "lr_test_mse = mean_squared_error(y_test, y_pred_lr_test)\n",
    "lr_test_r2 = r2_score(y_test, y_pred_lr_test)"
   ]
  },
  {
   "cell_type": "code",
   "execution_count": 84,
   "id": "133b2225-d63f-404f-9932-314ba8383ce0",
   "metadata": {},
   "outputs": [
    {
     "name": "stdout",
     "output_type": "stream",
     "text": [
      "LR MSE train error 0.46709017748414855\n",
      "LR R2 train error 0.5505532032246766\n",
      "LR MSE test error 0.4621913771897459\n",
      "LR R2 test error 0.4410525477840578\n"
     ]
    }
   ],
   "source": [
    "print(f\"LR MSE train error\", lr_train_mse)\n",
    "print(f\"LR R2 train error\", lr_train_r2)\n",
    "print(f\"LR MSE test error\", lr_test_mse)\n",
    "print(f\"LR R2 test error\", lr_test_r2)"
   ]
  },
  {
   "cell_type": "code",
   "execution_count": 85,
   "id": "de769ef4-f295-4634-b574-29d70b45fd73",
   "metadata": {},
   "outputs": [
    {
     "name": "stdout",
     "output_type": "stream",
     "text": [
      "LR MSE test error 0.4572520653276802\n",
      "LR R2 test error 0.4470258651526944\n"
     ]
    }
   ],
   "source": [
    "from sklearn.linear_model import Lasso\n",
    "lasso_model = Lasso(alpha=0.02)\n",
    "lasso_model.fit(X_train, y_train)\n",
    "\n",
    "y_pred_lasso_train = lasso_model.predict(X_train)\n",
    "y_pred_lasso_test = lasso_model.predict(X_test)\n",
    "\n",
    "lasso_test_mse = mean_squared_error(y_test, y_pred_lasso_test)\n",
    "lasso_test_r2 = r2_score(y_test, y_pred_lasso_test)\n",
    "\n",
    "print(f\"LR MSE test error\", lasso_test_mse)\n",
    "print(f\"LR R2 test error\", lasso_test_r2)"
   ]
  },
  {
   "cell_type": "code",
   "execution_count": 86,
   "id": "4cac8aa8-7386-48b2-8fab-4d0ac38af2aa",
   "metadata": {},
   "outputs": [
    {
     "name": "stdout",
     "output_type": "stream",
     "text": [
      "LR MSE test error 0.4613258641868355\n",
      "LR R2 test error 0.44209924902452236\n"
     ]
    }
   ],
   "source": [
    "from sklearn.linear_model import Ridge\n",
    "ridge_model = Ridge(alpha=0.9, solver=\"cholesky\")\n",
    "ridge_model.fit(X_train, y_train)\n",
    "\n",
    "y_pred_ridge_train = ridge_model.predict(X_train)\n",
    "y_pred_ridge_test = ridge_model.predict(X_test)\n",
    "\n",
    "ridge_test_mse = mean_squared_error(y_test, y_pred_ridge_test)\n",
    "ridge_test_r2 = r2_score(y_test, y_pred_ridge_test)\n",
    "\n",
    "print(f\"LR MSE test error\", ridge_test_mse)\n",
    "print(f\"LR R2 test error\", ridge_test_r2)"
   ]
  },
  {
   "cell_type": "code",
   "execution_count": 89,
   "id": "ac0e9e23-f439-4014-8c3b-2a37e3a005e4",
   "metadata": {},
   "outputs": [
    {
     "name": "stdout",
     "output_type": "stream",
     "text": [
      "LR MSE test error 0.0\n",
      "LR R2 test error 1.0\n"
     ]
    }
   ],
   "source": [
    "from sklearn.tree import DecisionTreeRegressor\n",
    "\n",
    "tree_model = DecisionTreeRegressor()\n",
    "tree_model.fit(X,y)\n",
    "\n",
    "y_pred_tree_train = tree_model.predict(X_train)\n",
    "y_pred_tree_test = tree_model.predict(X_test)\n",
    "\n",
    "tree_test_mse = mean_squared_error(y_test, y_pred_tree_test)\n",
    "tree_test_r2 = r2_score(y_test, y_pred_tree_test)\n",
    "\n",
    "print(f\"LR MSE test error\", tree_test_mse)\n",
    "print(f\"LR R2 test error\", tree_test_r2)"
   ]
  },
  {
   "cell_type": "markdown",
   "id": "ba2b2041-31c3-47d0-80e4-95d447f5db67",
   "metadata": {},
   "source": [
    "# previsão"
   ]
  },
  {
   "cell_type": "code",
   "execution_count": 87,
   "id": "d12fdaf1-bb28-4007-bdd8-ed394ed3d55f",
   "metadata": {},
   "outputs": [
    {
     "data": {
      "text/plain": [
       "Text(0.5, 1.0, 'Linear Regression Model')"
      ]
     },
     "execution_count": 87,
     "metadata": {},
     "output_type": "execute_result"
    },
    {
     "data": {
      "image/png": "[encoded data removed]",
      "text/plain": [
       "<Figure size 500x500 with 1 Axes>"
      ]
     },
     "metadata": {},
     "output_type": "display_data"
    }
   ],
   "source": [
    "import numpy as np\n",
    "\n",
    "plt.figure(figsize=(5,5))\n",
    "plt.scatter(y_test, y_pred_lr_test, color='b', alpha=0.3)\n",
    "\n",
    "z = np.polyfit(y_test, y_pred_lr_test, 1)\n",
    "p = np.poly1d(z)\n",
    "\n",
    "plt.plot(y_test, p(y_test), '#F8766D')\n",
    "plt.ylabel(\"Predicted Values\")\n",
    "plt.xlabel(\"Acutal Values\")\n",
    "plt.title(\"Linear Regression Model\")"
   ]
  },
  {
   "cell_type": "code",
   "execution_count": 90,
   "id": "fdf40a5b-08dd-4039-b367-84ca1025b355",
   "metadata": {},
   "outputs": [
    {
     "data": {
      "text/plain": [
       "Text(0.5, 1.0, 'Linear Regression Model')"
      ]
     },
     "execution_count": 90,
     "metadata": {},
     "output_type": "execute_result"
    },
    {
     "data": {
      "image/png": "[encoded data removed]",
      "text/plain": [
       "<Figure size 500x500 with 1 Axes>"
      ]
     },
     "metadata": {},
     "output_type": "display_data"
    }
   ],
   "source": [
    "plt.figure(figsize=(5,5))\n",
    "plt.scatter(y_test, y_pred_tree_test, color='b', alpha=0.3)\n",
    "\n",
    "z = np.polyfit(y_test, y_pred_tree_test, 1)\n",
    "p = np.poly1d(z)\n",
    "\n",
    "plt.plot(y_test, p(y_test), '#F8766D')\n",
    "plt.ylabel(\"Predicted Values\")\n",
    "plt.xlabel(\"Acutal Values\")\n",
    "plt.title(\"Linear Regression Model\")"
   ]
  },
  {
   "cell_type": "markdown",
   "id": "59c05018-c834-420e-8591-d61af4a869d9",
   "metadata": {},
   "source": [
    "# Classificação"
   ]
  },
  {
   "cell_type": "code",
   "execution_count": 111,
   "id": "4409c64f-3b8a-4acc-92ea-956fc89de805",
   "metadata": {},
   "outputs": [],
   "source": [
    "#X = df_prepared[:, 0:5]\n",
    "X = np.c_[df_prepared[:,5], df_prepared[:,0]]\n",
    "y = df_prepared[:,6]"
   ]
  },
  {
   "cell_type": "code",
   "execution_count": 91,
   "id": "ecee0dee-a000-4c0d-9f24-2d43bcacc73c",
   "metadata": {},
   "outputs": [],
   "source": [
    "X = df_prepared[:, 0:5]\n",
    "y = df_prepared[:,6]"
   ]
  },
  {
   "cell_type": "code",
   "execution_count": null,
   "id": "247cbdc6-5f22-429a-aa9e-91419c0d790e",
   "metadata": {},
   "outputs": [],
   "source": []
  },
  {
   "cell_type": "code",
   "execution_count": 92,
   "id": "19184142-3d69-4e2c-a97a-618e436b41d6",
   "metadata": {},
   "outputs": [
    {
     "data": {
      "text/plain": [
       "array([2., 2., 2., 2., 2., 2., 0., 2., 2., 2., 0., 2., 0., 2., 0., 2., 0.,\n",
       "       3., 2., 2., 0., 0., 0., 0., 0., 2., 0., 0., 0., 0., 2., 0., 0., 0.,\n",
       "       0., 0., 0., 3., 0., 0., 0., 0., 0., 3., 2., 0., 0., 0., 0., 0., 0.,\n",
       "       0., 0., 0., 2., 0., 0., 0., 0., 2., 0., 0., 0., 0., 2., 3., 0., 2.,\n",
       "       0., 0., 0., 2., 0., 0., 0., 0., 0., 0., 2., 2., 2., 2., 2., 2., 0.,\n",
       "       2., 0., 2., 0., 2., 3., 0., 2., 3., 2., 0., 2., 2., 0., 2., 2., 0.,\n",
       "       2., 0., 2., 3., 3., 2., 2., 2., 0., 2., 3., 3., 3., 2., 0., 0., 3.,\n",
       "       2., 3., 2., 2., 0., 0., 2., 2., 2., 2., 1., 2., 3., 2., 3., 2., 2.,\n",
       "       3., 2., 2., 2., 2., 2., 2., 3., 2., 2., 2., 2., 2., 2., 2., 2., 0.,\n",
       "       2., 2., 2., 2., 2., 2., 2., 2., 2., 2., 2., 2., 2., 2., 3., 2., 2.,\n",
       "       2., 2., 3., 2., 2., 3., 2., 2., 0., 2., 3., 2., 2., 2., 2., 2., 2.,\n",
       "       3., 2., 2., 2., 2., 3., 0., 0., 0., 0., 3., 3., 0., 3., 2., 2., 0.,\n",
       "       2., 2., 2., 2., 3., 2., 1., 3., 2., 2., 2., 2., 2., 2., 2., 2., 2.,\n",
       "       2., 2., 2., 2., 2., 2., 2., 2., 3., 3., 3., 2., 2., 2., 2., 2., 2.,\n",
       "       2., 2., 2., 3., 2., 2., 3., 2., 3., 2., 2., 2., 0., 0., 2., 2., 0.,\n",
       "       0., 0., 0., 0., 0., 0., 0., 0., 0., 0., 2., 0., 2., 0., 0., 0., 0.,\n",
       "       0., 0., 0., 0., 0., 2.])"
      ]
     },
     "execution_count": 92,
     "metadata": {},
     "output_type": "execute_result"
    }
   ],
   "source": [
    "y"
   ]
  },
  {
   "cell_type": "code",
   "execution_count": null,
   "id": "c69b3849-da30-4ed9-8950-cc823e622802",
   "metadata": {},
   "outputs": [],
   "source": []
  },
  {
   "cell_type": "code",
   "execution_count": 112,
   "id": "be20ea61-4b87-42d5-98c8-8ac49e2e8327",
   "metadata": {},
   "outputs": [],
   "source": [
    "X_train, X_test, y_train, y_test = train_test_split(X, y, test_size=0.2, random_state=42)"
   ]
  },
  {
   "cell_type": "code",
   "execution_count": 113,
   "id": "b37150a4-ad2d-4caf-b057-f0fb93c79c48",
   "metadata": {},
   "outputs": [
    {
     "data": {
      "text/html": [
       "<style>#sk-container-id-2 {\n",
       "  /* Definition of color scheme common for light and dark mode */\n",
       "  --sklearn-color-text: #000;\n",
       "  --sklearn-color-text-muted: #666;\n",
       "  --sklearn-color-line: gray;\n",
       "  /* Definition of color scheme for unfitted estimators */\n",
       "  --sklearn-color-unfitted-level-0: #fff5e6;\n",
       "  --sklearn-color-unfitted-level-1: #f6e4d2;\n",
       "  --sklearn-color-unfitted-level-2: #ffe0b3;\n",
       "  --sklearn-color-unfitted-level-3: chocolate;\n",
       "  /* Definition of color scheme for fitted estimators */\n",
       "  --sklearn-color-fitted-level-0: #f0f8ff;\n",
       "  --sklearn-color-fitted-level-1: #d4ebff;\n",
       "  --sklearn-color-fitted-level-2: #b3dbfd;\n",
       "  --sklearn-color-fitted-level-3: cornflowerblue;\n",
       "\n",
       "  /* Specific color for light theme */\n",
       "  --sklearn-color-text-on-default-background: var(--sg-text-color, var(--theme-code-foreground, var(--jp-content-font-color1, black)));\n",
       "  --sklearn-color-background: var(--sg-background-color, var(--theme-background, var(--jp-layout-color0, white)));\n",
       "  --sklearn-color-border-box: var(--sg-text-color, var(--theme-code-foreground, var(--jp-content-font-color1, black)));\n",
       "  --sklearn-color-icon: #696969;\n",
       "\n",
       "  @media (prefers-color-scheme: dark) {\n",
       "    /* Redefinition of color scheme for dark theme */\n",
       "    --sklearn-color-text-on-default-background: var(--sg-text-color, var(--theme-code-foreground, var(--jp-content-font-color1, white)));\n",
       "    --sklearn-color-background: var(--sg-background-color, var(--theme-background, var(--jp-layout-color0, #111)));\n",
       "    --sklearn-color-border-box: var(--sg-text-color, var(--theme-code-foreground, var(--jp-content-font-color1, white)));\n",
       "    --sklearn-color-icon: #878787;\n",
       "  }\n",
       "}\n",
       "\n",
       "#sk-container-id-2 {\n",
       "  color: var(--sklearn-color-text);\n",
       "}\n",
       "\n",
       "#sk-container-id-2 pre {\n",
       "  padding: 0;\n",
       "}\n",
       "\n",
       "#sk-container-id-2 input.sk-hidden--visually {\n",
       "  border: 0;\n",
       "  clip: rect(1px 1px 1px 1px);\n",
       "  clip: rect(1px, 1px, 1px, 1px);\n",
       "  height: 1px;\n",
       "  margin: -1px;\n",
       "  overflow: hidden;\n",
       "  padding: 0;\n",
       "  position: absolute;\n",
       "  width: 1px;\n",
       "}\n",
       "\n",
       "#sk-container-id-2 div.sk-dashed-wrapped {\n",
       "  border: 1px dashed var(--sklearn-color-line);\n",
       "  margin: 0 0.4em 0.5em 0.4em;\n",
       "  box-sizing: border-box;\n",
       "  padding-bottom: 0.4em;\n",
       "  background-color: var(--sklearn-color-background);\n",
       "}\n",
       "\n",
       "#sk-container-id-2 div.sk-container {\n",
       "  /* jupyter's `normalize.less` sets `[hidden] { display: none; }`\n",
       "     but bootstrap.min.css set `[hidden] { display: none !important; }`\n",
       "     so we also need the `!important` here to be able to override the\n",
       "     default hidden behavior on the sphinx rendered scikit-learn.org.\n",
       "     See: https://github.com/scikit-learn/scikit-learn/issues/21755 */\n",
       "  display: inline-block !important;\n",
       "  position: relative;\n",
       "}\n",
       "\n",
       "#sk-container-id-2 div.sk-text-repr-fallback {\n",
       "  display: none;\n",
       "}\n",
       "\n",
       "div.sk-parallel-item,\n",
       "div.sk-serial,\n",
       "div.sk-item {\n",
       "  /* draw centered vertical line to link estimators */\n",
       "  background-image: linear-gradient(var(--sklearn-color-text-on-default-background), var(--sklearn-color-text-on-default-background));\n",
       "  background-size: 2px 100%;\n",
       "  background-repeat: no-repeat;\n",
       "  background-position: center center;\n",
       "}\n",
       "\n",
       "/* Parallel-specific style estimator block */\n",
       "\n",
       "#sk-container-id-2 div.sk-parallel-item::after {\n",
       "  content: \"\";\n",
       "  width: 100%;\n",
       "  border-bottom: 2px solid var(--sklearn-color-text-on-default-background);\n",
       "  flex-grow: 1;\n",
       "}\n",
       "\n",
       "#sk-container-id-2 div.sk-parallel {\n",
       "  display: flex;\n",
       "  align-items: stretch;\n",
       "  justify-content: center;\n",
       "  background-color: var(--sklearn-color-background);\n",
       "  position: relative;\n",
       "}\n",
       "\n",
       "#sk-container-id-2 div.sk-parallel-item {\n",
       "  display: flex;\n",
       "  flex-direction: column;\n",
       "}\n",
       "\n",
       "#sk-container-id-2 div.sk-parallel-item:first-child::after {\n",
       "  align-self: flex-end;\n",
       "  width: 50%;\n",
       "}\n",
       "\n",
       "#sk-container-id-2 div.sk-parallel-item:last-child::after {\n",
       "  align-self: flex-start;\n",
       "  width: 50%;\n",
       "}\n",
       "\n",
       "#sk-container-id-2 div.sk-parallel-item:only-child::after {\n",
       "  width: 0;\n",
       "}\n",
       "\n",
       "/* Serial-specific style estimator block */\n",
       "\n",
       "#sk-container-id-2 div.sk-serial {\n",
       "  display: flex;\n",
       "  flex-direction: column;\n",
       "  align-items: center;\n",
       "  background-color: var(--sklearn-color-background);\n",
       "  padding-right: 1em;\n",
       "  padding-left: 1em;\n",
       "}\n",
       "\n",
       "\n",
       "/* Toggleable style: style used for estimator/Pipeline/ColumnTransformer box that is\n",
       "clickable and can be expanded/collapsed.\n",
       "- Pipeline and ColumnTransformer use this feature and define the default style\n",
       "- Estimators will overwrite some part of the style using the `sk-estimator` class\n",
       "*/\n",
       "\n",
       "/* Pipeline and ColumnTransformer style (default) */\n",
       "\n",
       "#sk-container-id-2 div.sk-toggleable {\n",
       "  /* Default theme specific background. It is overwritten whether we have a\n",
       "  specific estimator or a Pipeline/ColumnTransformer */\n",
       "  background-color: var(--sklearn-color-background);\n",
       "}\n",
       "\n",
       "/* Toggleable label */\n",
       "#sk-container-id-2 label.sk-toggleable__label {\n",
       "  cursor: pointer;\n",
       "  display: flex;\n",
       "  width: 100%;\n",
       "  margin-bottom: 0;\n",
       "  padding: 0.5em;\n",
       "  box-sizing: border-box;\n",
       "  text-align: center;\n",
       "  align-items: start;\n",
       "  justify-content: space-between;\n",
       "  gap: 0.5em;\n",
       "}\n",
       "\n",
       "#sk-container-id-2 label.sk-toggleable__label .caption {\n",
       "  font-size: 0.6rem;\n",
       "  font-weight: lighter;\n",
       "  color: var(--sklearn-color-text-muted);\n",
       "}\n",
       "\n",
       "#sk-container-id-2 label.sk-toggleable__label-arrow:before {\n",
       "  /* Arrow on the left of the label */\n",
       "  content: \"▸\";\n",
       "  float: left;\n",
       "  margin-right: 0.25em;\n",
       "  color: var(--sklearn-color-icon);\n",
       "}\n",
       "\n",
       "#sk-container-id-2 label.sk-toggleable__label-arrow:hover:before {\n",
       "  color: var(--sklearn-color-text);\n",
       "}\n",
       "\n",
       "/* Toggleable content - dropdown */\n",
       "\n",
       "#sk-container-id-2 div.sk-toggleable__content {\n",
       "  display: none;\n",
       "  text-align: left;\n",
       "  /* unfitted */\n",
       "  background-color: var(--sklearn-color-unfitted-level-0);\n",
       "}\n",
       "\n",
       "#sk-container-id-2 div.sk-toggleable__content.fitted {\n",
       "  /* fitted */\n",
       "  background-color: var(--sklearn-color-fitted-level-0);\n",
       "}\n",
       "\n",
       "#sk-container-id-2 div.sk-toggleable__content pre {\n",
       "  margin: 0.2em;\n",
       "  border-radius: 0.25em;\n",
       "  color: var(--sklearn-color-text);\n",
       "  /* unfitted */\n",
       "  background-color: var(--sklearn-color-unfitted-level-0);\n",
       "}\n",
       "\n",
       "#sk-container-id-2 div.sk-toggleable__content.fitted pre {\n",
       "  /* unfitted */\n",
       "  background-color: var(--sklearn-color-fitted-level-0);\n",
       "}\n",
       "\n",
       "#sk-container-id-2 input.sk-toggleable__control:checked~div.sk-toggleable__content {\n",
       "  /* Expand drop-down */\n",
       "  display: block;\n",
       "  width: 100%;\n",
       "  overflow: visible;\n",
       "}\n",
       "\n",
       "#sk-container-id-2 input.sk-toggleable__control:checked~label.sk-toggleable__label-arrow:before {\n",
       "  content: \"▾\";\n",
       "}\n",
       "\n",
       "/* Pipeline/ColumnTransformer-specific style */\n",
       "\n",
       "#sk-container-id-2 div.sk-label input.sk-toggleable__control:checked~label.sk-toggleable__label {\n",
       "  color: var(--sklearn-color-text);\n",
       "  background-color: var(--sklearn-color-unfitted-level-2);\n",
       "}\n",
       "\n",
       "#sk-container-id-2 div.sk-label.fitted input.sk-toggleable__control:checked~label.sk-toggleable__label {\n",
       "  background-color: var(--sklearn-color-fitted-level-2);\n",
       "}\n",
       "\n",
       "/* Estimator-specific style */\n",
       "\n",
       "/* Colorize estimator box */\n",
       "#sk-container-id-2 div.sk-estimator input.sk-toggleable__control:checked~label.sk-toggleable__label {\n",
       "  /* unfitted */\n",
       "  background-color: var(--sklearn-color-unfitted-level-2);\n",
       "}\n",
       "\n",
       "#sk-container-id-2 div.sk-estimator.fitted input.sk-toggleable__control:checked~label.sk-toggleable__label {\n",
       "  /* fitted */\n",
       "  background-color: var(--sklearn-color-fitted-level-2);\n",
       "}\n",
       "\n",
       "#sk-container-id-2 div.sk-label label.sk-toggleable__label,\n",
       "#sk-container-id-2 div.sk-label label {\n",
       "  /* The background is the default theme color */\n",
       "  color: var(--sklearn-color-text-on-default-background);\n",
       "}\n",
       "\n",
       "/* On hover, darken the color of the background */\n",
       "#sk-container-id-2 div.sk-label:hover label.sk-toggleable__label {\n",
       "  color: var(--sklearn-color-text);\n",
       "  background-color: var(--sklearn-color-unfitted-level-2);\n",
       "}\n",
       "\n",
       "/* Label box, darken color on hover, fitted */\n",
       "#sk-container-id-2 div.sk-label.fitted:hover label.sk-toggleable__label.fitted {\n",
       "  color: var(--sklearn-color-text);\n",
       "  background-color: var(--sklearn-color-fitted-level-2);\n",
       "}\n",
       "\n",
       "/* Estimator label */\n",
       "\n",
       "#sk-container-id-2 div.sk-label label {\n",
       "  font-family: monospace;\n",
       "  font-weight: bold;\n",
       "  display: inline-block;\n",
       "  line-height: 1.2em;\n",
       "}\n",
       "\n",
       "#sk-container-id-2 div.sk-label-container {\n",
       "  text-align: center;\n",
       "}\n",
       "\n",
       "/* Estimator-specific */\n",
       "#sk-container-id-2 div.sk-estimator {\n",
       "  font-family: monospace;\n",
       "  border: 1px dotted var(--sklearn-color-border-box);\n",
       "  border-radius: 0.25em;\n",
       "  box-sizing: border-box;\n",
       "  margin-bottom: 0.5em;\n",
       "  /* unfitted */\n",
       "  background-color: var(--sklearn-color-unfitted-level-0);\n",
       "}\n",
       "\n",
       "#sk-container-id-2 div.sk-estimator.fitted {\n",
       "  /* fitted */\n",
       "  background-color: var(--sklearn-color-fitted-level-0);\n",
       "}\n",
       "\n",
       "/* on hover */\n",
       "#sk-container-id-2 div.sk-estimator:hover {\n",
       "  /* unfitted */\n",
       "  background-color: var(--sklearn-color-unfitted-level-2);\n",
       "}\n",
       "\n",
       "#sk-container-id-2 div.sk-estimator.fitted:hover {\n",
       "  /* fitted */\n",
       "  background-color: var(--sklearn-color-fitted-level-2);\n",
       "}\n",
       "\n",
       "/* Specification for estimator info (e.g. \"i\" and \"?\") */\n",
       "\n",
       "/* Common style for \"i\" and \"?\" */\n",
       "\n",
       ".sk-estimator-doc-link,\n",
       "a:link.sk-estimator-doc-link,\n",
       "a:visited.sk-estimator-doc-link {\n",
       "  float: right;\n",
       "  font-size: smaller;\n",
       "  line-height: 1em;\n",
       "  font-family: monospace;\n",
       "  background-color: var(--sklearn-color-background);\n",
       "  border-radius: 1em;\n",
       "  height: 1em;\n",
       "  width: 1em;\n",
       "  text-decoration: none !important;\n",
       "  margin-left: 0.5em;\n",
       "  text-align: center;\n",
       "  /* unfitted */\n",
       "  border: var(--sklearn-color-unfitted-level-1) 1pt solid;\n",
       "  color: var(--sklearn-color-unfitted-level-1);\n",
       "}\n",
       "\n",
       ".sk-estimator-doc-link.fitted,\n",
       "a:link.sk-estimator-doc-link.fitted,\n",
       "a:visited.sk-estimator-doc-link.fitted {\n",
       "  /* fitted */\n",
       "  border: var(--sklearn-color-fitted-level-1) 1pt solid;\n",
       "  color: var(--sklearn-color-fitted-level-1);\n",
       "}\n",
       "\n",
       "/* On hover */\n",
       "div.sk-estimator:hover .sk-estimator-doc-link:hover,\n",
       ".sk-estimator-doc-link:hover,\n",
       "div.sk-label-container:hover .sk-estimator-doc-link:hover,\n",
       ".sk-estimator-doc-link:hover {\n",
       "  /* unfitted */\n",
       "  background-color: var(--sklearn-color-unfitted-level-3);\n",
       "  color: var(--sklearn-color-background);\n",
       "  text-decoration: none;\n",
       "}\n",
       "\n",
       "div.sk-estimator.fitted:hover .sk-estimator-doc-link.fitted:hover,\n",
       ".sk-estimator-doc-link.fitted:hover,\n",
       "div.sk-label-container:hover .sk-estimator-doc-link.fitted:hover,\n",
       ".sk-estimator-doc-link.fitted:hover {\n",
       "  /* fitted */\n",
       "  background-color: var(--sklearn-color-fitted-level-3);\n",
       "  color: var(--sklearn-color-background);\n",
       "  text-decoration: none;\n",
       "}\n",
       "\n",
       "/* Span, style for the box shown on hovering the info icon */\n",
       ".sk-estimator-doc-link span {\n",
       "  display: none;\n",
       "  z-index: 9999;\n",
       "  position: relative;\n",
       "  font-weight: normal;\n",
       "  right: .2ex;\n",
       "  padding: .5ex;\n",
       "  margin: .5ex;\n",
       "  width: min-content;\n",
       "  min-width: 20ex;\n",
       "  max-width: 50ex;\n",
       "  color: var(--sklearn-color-text);\n",
       "  box-shadow: 2pt 2pt 4pt #999;\n",
       "  /* unfitted */\n",
       "  background: var(--sklearn-color-unfitted-level-0);\n",
       "  border: .5pt solid var(--sklearn-color-unfitted-level-3);\n",
       "}\n",
       "\n",
       ".sk-estimator-doc-link.fitted span {\n",
       "  /* fitted */\n",
       "  background: var(--sklearn-color-fitted-level-0);\n",
       "  border: var(--sklearn-color-fitted-level-3);\n",
       "}\n",
       "\n",
       ".sk-estimator-doc-link:hover span {\n",
       "  display: block;\n",
       "}\n",
       "\n",
       "/* \"?\"-specific style due to the `<a>` HTML tag */\n",
       "\n",
       "#sk-container-id-2 a.estimator_doc_link {\n",
       "  float: right;\n",
       "  font-size: 1rem;\n",
       "  line-height: 1em;\n",
       "  font-family: monospace;\n",
       "  background-color: var(--sklearn-color-background);\n",
       "  border-radius: 1rem;\n",
       "  height: 1rem;\n",
       "  width: 1rem;\n",
       "  text-decoration: none;\n",
       "  /* unfitted */\n",
       "  color: var(--sklearn-color-unfitted-level-1);\n",
       "  border: var(--sklearn-color-unfitted-level-1) 1pt solid;\n",
       "}\n",
       "\n",
       "#sk-container-id-2 a.estimator_doc_link.fitted {\n",
       "  /* fitted */\n",
       "  border: var(--sklearn-color-fitted-level-1) 1pt solid;\n",
       "  color: var(--sklearn-color-fitted-level-1);\n",
       "}\n",
       "\n",
       "/* On hover */\n",
       "#sk-container-id-2 a.estimator_doc_link:hover {\n",
       "  /* unfitted */\n",
       "  background-color: var(--sklearn-color-unfitted-level-3);\n",
       "  color: var(--sklearn-color-background);\n",
       "  text-decoration: none;\n",
       "}\n",
       "\n",
       "#sk-container-id-2 a.estimator_doc_link.fitted:hover {\n",
       "  /* fitted */\n",
       "  background-color: var(--sklearn-color-fitted-level-3);\n",
       "}\n",
       "\n",
       ".estimator-table summary {\n",
       "    padding: .5rem;\n",
       "    font-family: monospace;\n",
       "    cursor: pointer;\n",
       "}\n",
       "\n",
       ".estimator-table details[open] {\n",
       "    padding-left: 0.1rem;\n",
       "    padding-right: 0.1rem;\n",
       "    padding-bottom: 0.3rem;\n",
       "}\n",
       "\n",
       ".estimator-table .parameters-table {\n",
       "    margin-left: auto !important;\n",
       "    margin-right: auto !important;\n",
       "}\n",
       "\n",
       ".estimator-table .parameters-table tr:nth-child(odd) {\n",
       "    background-color: #fff;\n",
       "}\n",
       "\n",
       ".estimator-table .parameters-table tr:nth-child(even) {\n",
       "    background-color: #f6f6f6;\n",
       "}\n",
       "\n",
       ".estimator-table .parameters-table tr:hover {\n",
       "    background-color: #e0e0e0;\n",
       "}\n",
       "\n",
       ".estimator-table table td {\n",
       "    border: 1px solid rgba(106, 105, 104, 0.232);\n",
       "}\n",
       "\n",
       ".user-set td {\n",
       "    color:rgb(255, 94, 0);\n",
       "    text-align: left;\n",
       "}\n",
       "\n",
       ".user-set td.value pre {\n",
       "    color:rgb(255, 94, 0) !important;\n",
       "    background-color: transparent !important;\n",
       "}\n",
       "\n",
       ".default td {\n",
       "    color: black;\n",
       "    text-align: left;\n",
       "}\n",
       "\n",
       ".user-set td i,\n",
       ".default td i {\n",
       "    color: black;\n",
       "}\n",
       "\n",
       ".copy-paste-icon {\n",
       "    background-image: url(data:image/svg+xml;base64,PHN2ZyB4bWxucz0iaHR0cDovL3d3dy53My5vcmcvMjAwMC9zdmciIHZpZXdCb3g9IjAgMCA0NDggNTEyIj48IS0tIUZvbnQgQXdlc29tZSBGcmVlIDYuNy4yIGJ5IEBmb250YXdlc29tZSAtIGh0dHBzOi8vZm9udGF3ZXNvbWUuY29tIExpY2Vuc2UgLSBodHRwczovL2ZvbnRhd2Vzb21lLmNvbS9saWNlbnNlL2ZyZWUgQ29weXJpZ2h0IDIwMjUgRm9udGljb25zLCBJbmMuLS0+PHBhdGggZD0iTTIwOCAwTDMzMi4xIDBjMTIuNyAwIDI0LjkgNS4xIDMzLjkgMTQuMWw2Ny45IDY3LjljOSA5IDE0LjEgMjEuMiAxNC4xIDMzLjlMNDQ4IDMzNmMwIDI2LjUtMjEuNSA0OC00OCA0OGwtMTkyIDBjLTI2LjUgMC00OC0yMS41LTQ4LTQ4bDAtMjg4YzAtMjYuNSAyMS41LTQ4IDQ4LTQ4ek00OCAxMjhsODAgMCAwIDY0LTY0IDAgMCAyNTYgMTkyIDAgMC0zMiA2NCAwIDAgNDhjMCAyNi41LTIxLjUgNDgtNDggNDhMNDggNTEyYy0yNi41IDAtNDgtMjEuNS00OC00OEwwIDE3NmMwLTI2LjUgMjEuNS00OCA0OC00OHoiLz48L3N2Zz4=);\n",
       "    background-repeat: no-repeat;\n",
       "    background-size: 14px 14px;\n",
       "    background-position: 0;\n",
       "    display: inline-block;\n",
       "    width: 14px;\n",
       "    height: 14px;\n",
       "    cursor: pointer;\n",
       "}\n",
       "</style><body><div id=\"sk-container-id-2\" class=\"sk-top-container\"><div class=\"sk-text-repr-fallback\"><pre>KNeighborsClassifier()</pre><b>In a Jupyter environment, please rerun this cell to show the HTML representation or trust the notebook. <br />On GitHub, the HTML representation is unable to render, please try loading this page with nbviewer.org.</b></div><div class=\"sk-container\" hidden><div class=\"sk-item\"><div class=\"sk-estimator fitted sk-toggleable\"><input class=\"sk-toggleable__control sk-hidden--visually\" id=\"sk-estimator-id-2\" type=\"checkbox\" checked><label for=\"sk-estimator-id-2\" class=\"sk-toggleable__label fitted sk-toggleable__label-arrow\"><div><div>KNeighborsClassifier</div></div><div><a class=\"sk-estimator-doc-link fitted\" rel=\"noreferrer\" target=\"_blank\" href=\"https://scikit-learn.org/1.7/modules/generated/sklearn.neighbors.KNeighborsClassifier.html\">?<span>Documentation for KNeighborsClassifier</span></a><span class=\"sk-estimator-doc-link fitted\">i<span>Fitted</span></span></div></label><div class=\"sk-toggleable__content fitted\" data-param-prefix=\"\">\n",
       "        <div class=\"estimator-table\">\n",
       "            <details>\n",
       "                <summary>Parameters</summary>\n",
       "                <table class=\"parameters-table\">\n",
       "                  <tbody>\n",
       "                    \n",
       "        <tr class=\"default\">\n",
       "            <td><i class=\"copy-paste-icon\"\n",
       "                 onclick=\"copyToClipboard('n_neighbors',\n",
       "                          this.parentElement.nextElementSibling)\"\n",
       "            ></i></td>\n",
       "            <td class=\"param\">n_neighbors&nbsp;</td>\n",
       "            <td class=\"value\">5</td>\n",
       "        </tr>\n",
       "    \n",
       "\n",
       "        <tr class=\"default\">\n",
       "            <td><i class=\"copy-paste-icon\"\n",
       "                 onclick=\"copyToClipboard('weights',\n",
       "                          this.parentElement.nextElementSibling)\"\n",
       "            ></i></td>\n",
       "            <td class=\"param\">weights&nbsp;</td>\n",
       "            <td class=\"value\">&#x27;uniform&#x27;</td>\n",
       "        </tr>\n",
       "    \n",
       "\n",
       "        <tr class=\"default\">\n",
       "            <td><i class=\"copy-paste-icon\"\n",
       "                 onclick=\"copyToClipboard('algorithm',\n",
       "                          this.parentElement.nextElementSibling)\"\n",
       "            ></i></td>\n",
       "            <td class=\"param\">algorithm&nbsp;</td>\n",
       "            <td class=\"value\">&#x27;auto&#x27;</td>\n",
       "        </tr>\n",
       "    \n",
       "\n",
       "        <tr class=\"default\">\n",
       "            <td><i class=\"copy-paste-icon\"\n",
       "                 onclick=\"copyToClipboard('leaf_size',\n",
       "                          this.parentElement.nextElementSibling)\"\n",
       "            ></i></td>\n",
       "            <td class=\"param\">leaf_size&nbsp;</td>\n",
       "            <td class=\"value\">30</td>\n",
       "        </tr>\n",
       "    \n",
       "\n",
       "        <tr class=\"default\">\n",
       "            <td><i class=\"copy-paste-icon\"\n",
       "                 onclick=\"copyToClipboard('p',\n",
       "                          this.parentElement.nextElementSibling)\"\n",
       "            ></i></td>\n",
       "            <td class=\"param\">p&nbsp;</td>\n",
       "            <td class=\"value\">2</td>\n",
       "        </tr>\n",
       "    \n",
       "\n",
       "        <tr class=\"default\">\n",
       "            <td><i class=\"copy-paste-icon\"\n",
       "                 onclick=\"copyToClipboard('metric',\n",
       "                          this.parentElement.nextElementSibling)\"\n",
       "            ></i></td>\n",
       "            <td class=\"param\">metric&nbsp;</td>\n",
       "            <td class=\"value\">&#x27;minkowski&#x27;</td>\n",
       "        </tr>\n",
       "    \n",
       "\n",
       "        <tr class=\"default\">\n",
       "            <td><i class=\"copy-paste-icon\"\n",
       "                 onclick=\"copyToClipboard('metric_params',\n",
       "                          this.parentElement.nextElementSibling)\"\n",
       "            ></i></td>\n",
       "            <td class=\"param\">metric_params&nbsp;</td>\n",
       "            <td class=\"value\">None</td>\n",
       "        </tr>\n",
       "    \n",
       "\n",
       "        <tr class=\"default\">\n",
       "            <td><i class=\"copy-paste-icon\"\n",
       "                 onclick=\"copyToClipboard('n_jobs',\n",
       "                          this.parentElement.nextElementSibling)\"\n",
       "            ></i></td>\n",
       "            <td class=\"param\">n_jobs&nbsp;</td>\n",
       "            <td class=\"value\">None</td>\n",
       "        </tr>\n",
       "    \n",
       "                  </tbody>\n",
       "                </table>\n",
       "            </details>\n",
       "        </div>\n",
       "    </div></div></div></div></div><script>function copyToClipboard(text, element) {\n",
       "    // Get the parameter prefix from the closest toggleable content\n",
       "    const toggleableContent = element.closest('.sk-toggleable__content');\n",
       "    const paramPrefix = toggleableContent ? toggleableContent.dataset.paramPrefix : '';\n",
       "    const fullParamName = paramPrefix ? `${paramPrefix}${text}` : text;\n",
       "\n",
       "    const originalStyle = element.style;\n",
       "    const computedStyle = window.getComputedStyle(element);\n",
       "    const originalWidth = computedStyle.width;\n",
       "    const originalHTML = element.innerHTML.replace('Copied!', '');\n",
       "\n",
       "    navigator.clipboard.writeText(fullParamName)\n",
       "        .then(() => {\n",
       "            element.style.width = originalWidth;\n",
       "            element.style.color = 'green';\n",
       "            element.innerHTML = \"Copied!\";\n",
       "\n",
       "            setTimeout(() => {\n",
       "                element.innerHTML = originalHTML;\n",
       "                element.style = originalStyle;\n",
       "            }, 2000);\n",
       "        })\n",
       "        .catch(err => {\n",
       "            console.error('Failed to copy:', err);\n",
       "            element.style.color = 'red';\n",
       "            element.innerHTML = \"Failed!\";\n",
       "            setTimeout(() => {\n",
       "                element.innerHTML = originalHTML;\n",
       "                element.style = originalStyle;\n",
       "            }, 2000);\n",
       "        });\n",
       "    return false;\n",
       "}\n",
       "\n",
       "document.querySelectorAll('.fa-regular.fa-copy').forEach(function(element) {\n",
       "    const toggleableContent = element.closest('.sk-toggleable__content');\n",
       "    const paramPrefix = toggleableContent ? toggleableContent.dataset.paramPrefix : '';\n",
       "    const paramName = element.parentElement.nextElementSibling.textContent.trim();\n",
       "    const fullParamName = paramPrefix ? `${paramPrefix}${paramName}` : paramName;\n",
       "\n",
       "    element.setAttribute('title', fullParamName);\n",
       "});\n",
       "</script></body>"
      ],
      "text/plain": [
       "KNeighborsClassifier()"
      ]
     },
     "execution_count": 113,
     "metadata": {},
     "output_type": "execute_result"
    }
   ],
   "source": [
    "from sklearn.neighbors import KNeighborsClassifier\n",
    "knn_clf = KNeighborsClassifier()\n",
    "knn_clf.fit(X_train, y_train)"
   ]
  },
  {
   "cell_type": "code",
   "execution_count": 114,
   "id": "2a7e72bd-d438-4973-8ed0-d693947ddd5b",
   "metadata": {},
   "outputs": [
    {
     "data": {
      "text/plain": [
       "array([0.46428571, 0.5       ])"
      ]
     },
     "execution_count": 114,
     "metadata": {},
     "output_type": "execute_result"
    }
   ],
   "source": [
    "from sklearn.model_selection import cross_val_score, cross_val_predict\n",
    "y_pred = cross_val_predict(knn_clf, X_test, y_test, cv=2)\n",
    "cross_val_score(knn_clf, X_test, y_test, cv=2, scoring=\"accuracy\")"
   ]
  },
  {
   "cell_type": "code",
   "execution_count": 115,
   "id": "dfa2073f-6029-41a5-84c3-e9942ec3f187",
   "metadata": {},
   "outputs": [
    {
     "data": {
      "text/plain": [
       "array([[12, 12,  0],\n",
       "       [12, 15,  0],\n",
       "       [ 0,  5,  0]])"
      ]
     },
     "execution_count": 115,
     "metadata": {},
     "output_type": "execute_result"
    }
   ],
   "source": [
    "from sklearn.metrics import confusion_matrix\n",
    "confusion_matrix(y_test, y_pred)"
   ]
  },
  {
   "cell_type": "code",
   "execution_count": 116,
   "id": "199357e7-1a14-4c3b-b909-2fded006da04",
   "metadata": {},
   "outputs": [
    {
     "name": "stdout",
     "output_type": "stream",
     "text": [
      "[0.42857143 0.46428571]\n"
     ]
    },
    {
     "data": {
      "text/plain": [
       "array([[12,  9,  3],\n",
       "       [10, 17,  0],\n",
       "       [ 2,  3,  0]])"
      ]
     },
     "execution_count": 116,
     "metadata": {},
     "output_type": "execute_result"
    }
   ],
   "source": [
    "from sklearn.linear_model import SGDClassifier\n",
    "sgd_clf = SGDClassifier()\n",
    "sgd_clf.fit(X_train, y_train)\n",
    "y_pred = cross_val_predict(sgd_clf, X_test, y_test, cv=2)\n",
    "print(cross_val_score(sgd_clf, X_test, y_test, cv=2, scoring=\"accuracy\"))\n",
    "confusion_matrix(y_test, y_pred)"
   ]
  },
  {
   "cell_type": "code",
   "execution_count": 118,
   "id": "1a762cdd-8360-40b9-be1a-e66b1eaa1b76",
   "metadata": {},
   "outputs": [
    {
     "name": "stdout",
     "output_type": "stream",
     "text": [
      "[0.25       0.35714286]\n"
     ]
    },
    {
     "data": {
      "text/plain": [
       "array([[ 5, 19,  0],\n",
       "       [12, 13,  2],\n",
       "       [ 0,  5,  0]])"
      ]
     },
     "execution_count": 118,
     "metadata": {},
     "output_type": "execute_result"
    }
   ],
   "source": [
    "from sklearn.tree import DecisionTreeClassifier\n",
    "tree_clf = DecisionTreeClassifier()\n",
    "tree_clf.fit(X_train, y_train)\n",
    "y_pred = cross_val_predict(tree_clf, X_test, y_test, cv=2)\n",
    "print(cross_val_score(tree_clf, X_test, y_test, cv=2, scoring=\"accuracy\"))\n",
    "confusion_matrix(y_test, y_pred)"
   ]
  }
 ],
 "metadata": {
  "kernelspec": {
   "display_name": "Python 3 (ipykernel)",
   "language": "python",
   "name": "python3"
  },
  "language_info": {
   "codemirror_mode": {
    "name": "ipython",
    "version": 3
   },
   "file_extension": ".py",
   "mimetype": "text/x-python",
   "name": "python",
   "nbconvert_exporter": "python",
   "pygments_lexer": "ipython3",
   "version": "3.13.5"
  }
 },
 "nbformat": 4,
 "nbformat_minor": 5
}
